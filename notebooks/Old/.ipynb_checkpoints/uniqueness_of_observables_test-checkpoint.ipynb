{
 "cells": [
  {
   "cell_type": "markdown",
   "id": "d40eda81-98c7-4bde-9392-ce9fe8fcce92",
   "metadata": {},
   "source": [
    "# Limit observation object creation"
   ]
  },
  {
   "cell_type": "code",
   "execution_count": 24,
   "id": "d8de4187-c5ad-4c73-a8c6-d8cc27441f54",
   "metadata": {},
   "outputs": [],
   "source": [
    "class Observable_Unique():\n",
    "    _instances: dict[str, 'Observable_Unique'] = {}\n",
    "\n",
    "    def __new__(cls, name):\n",
    "        # print(\"__NEW__\")\n",
    "        if name in Observable_Unique._instances:\n",
    "            # print(\"    EXISTS\")\n",
    "            return Observable_Unique._instances[name]\n",
    "        else:\n",
    "            # print(\"    NEW\")\n",
    "            return super(Observable_Unique, cls).__new__(cls)\n",
    "    \n",
    "    def __init__(self, name):\n",
    "        # print(\"__INIT__\")\n",
    "        if hasattr(self, 'uid'):\n",
    "            # print(\"    SKIPPING EXISTING\")\n",
    "            return\n",
    "        # print(\"    INITIATING\")\n",
    "        self.uid = 'O' + name\n",
    "        Observable_Unique._instances[name] = self\n",
    "\n",
    "    def __repr__(self):\n",
    "        return self.uid"
   ]
  },
  {
   "cell_type": "code",
   "execution_count": 7,
   "id": "0a978a04-b0d2-4a9f-bf30-6279a44add9c",
   "metadata": {},
   "outputs": [
    {
     "name": "stdout",
     "output_type": "stream",
     "text": [
      "__NEW__\n",
      "    NEW\n",
      "__INIT__\n",
      "    INITIATING\n"
     ]
    },
    {
     "data": {
      "text/plain": [
       "Oa"
      ]
     },
     "execution_count": 7,
     "metadata": {},
     "output_type": "execute_result"
    }
   ],
   "source": [
    "Observable_Unique('a')"
   ]
  },
  {
   "cell_type": "code",
   "execution_count": 8,
   "id": "ec613139-4e80-429a-baff-fc5b4cacf25b",
   "metadata": {},
   "outputs": [
    {
     "data": {
      "text/plain": [
       "{'a': Oa}"
      ]
     },
     "execution_count": 8,
     "metadata": {},
     "output_type": "execute_result"
    }
   ],
   "source": [
    "Observable_Unique._instances"
   ]
  },
  {
   "cell_type": "code",
   "execution_count": 9,
   "id": "6f17a8be-e150-4406-8a65-bdb55cbd71b1",
   "metadata": {},
   "outputs": [
    {
     "name": "stdout",
     "output_type": "stream",
     "text": [
      "__NEW__\n",
      "    EXISTS\n",
      "__INIT__\n",
      "    SKIPPING EXISTING\n"
     ]
    },
    {
     "data": {
      "text/plain": [
       "Oa"
      ]
     },
     "execution_count": 9,
     "metadata": {},
     "output_type": "execute_result"
    }
   ],
   "source": [
    "Observable_Unique('a')"
   ]
  },
  {
   "cell_type": "code",
   "execution_count": 10,
   "id": "e0e5e2ab-df66-4c5c-95d2-14ffb85c388b",
   "metadata": {},
   "outputs": [
    {
     "data": {
      "text/plain": [
       "{'a': Oa}"
      ]
     },
     "execution_count": 10,
     "metadata": {},
     "output_type": "execute_result"
    }
   ],
   "source": [
    "Observable_Unique._instances"
   ]
  },
  {
   "cell_type": "code",
   "execution_count": 11,
   "id": "74d0c420-919d-427b-9375-a2378d4f2d78",
   "metadata": {},
   "outputs": [
    {
     "name": "stdout",
     "output_type": "stream",
     "text": [
      "__NEW__\n",
      "    NEW\n",
      "__INIT__\n",
      "    INITIATING\n",
      "__NEW__\n",
      "    NEW\n",
      "__INIT__\n",
      "    INITIATING\n",
      "__NEW__\n",
      "    EXISTS\n",
      "__INIT__\n",
      "    SKIPPING EXISTING\n"
     ]
    },
    {
     "data": {
      "text/plain": [
       "Ob"
      ]
     },
     "execution_count": 11,
     "metadata": {},
     "output_type": "execute_result"
    }
   ],
   "source": [
    "Observable_Unique('b')\n",
    "Observable_Unique('c')\n",
    "Observable_Unique('b')"
   ]
  },
  {
   "cell_type": "code",
   "execution_count": 12,
   "id": "d942c072-3b41-4219-9764-0137b160c398",
   "metadata": {},
   "outputs": [
    {
     "data": {
      "text/plain": [
       "{'a': Oa, 'b': Ob, 'c': Oc}"
      ]
     },
     "execution_count": 12,
     "metadata": {},
     "output_type": "execute_result"
    }
   ],
   "source": [
    "Observable_Unique._instances"
   ]
  },
  {
   "cell_type": "markdown",
   "id": "45aac5fb-19ef-4223-9a70-ef95c32b6561",
   "metadata": {},
   "source": [
    "# Limit observation sequences"
   ]
  },
  {
   "cell_type": "code",
   "execution_count": 13,
   "id": "edceb46f-0617-44d0-8af3-9e98b8f2455c",
   "metadata": {},
   "outputs": [],
   "source": [
    "import os\n",
    "import sys\n",
    "module_path = os.path.abspath(os.path.join('..'))\n",
    "if module_path not in sys.path:\n",
    "    sys.path.append(module_path)\n",
    "\n",
    "from src import oom\n",
    "from src.oom.DiscreteValuedOOM import DiscreteValuedOOM, get_matrices\n",
    "from src.oom.observable import *\n",
    "\n",
    "sys.modules['oom'] = oom"
   ]
  },
  {
   "cell_type": "code",
   "execution_count": 16,
   "id": "5a0709e7-ba34-410b-bc1b-9786c61f6f1b",
   "metadata": {},
   "outputs": [
    {
     "name": "stdout",
     "output_type": "stream",
     "text": [
      "__NEW__\n",
      "    EXISTS\n",
      "__INIT__\n",
      "    SKIPPING EXISTING\n"
     ]
    },
    {
     "ename": "TypeError",
     "evalue": "observations is not a sequence of strings or observables.",
     "output_type": "error",
     "traceback": [
      "\u001b[1;31m---------------------------------------------------------------------------\u001b[0m",
      "\u001b[1;31mTypeError\u001b[0m                                 Traceback (most recent call last)",
      "Cell \u001b[1;32mIn[16], line 3\u001b[0m\n\u001b[0;32m      1\u001b[0m \u001b[38;5;28;01mfrom\u001b[39;00m \u001b[38;5;21;01msrc\u001b[39;00m\u001b[38;5;21;01m.\u001b[39;00m\u001b[38;5;21;01moom\u001b[39;00m\u001b[38;5;21;01m.\u001b[39;00m\u001b[38;5;21;01mobservable\u001b[39;00m \u001b[38;5;28;01mimport\u001b[39;00m ObsSequence\n\u001b[1;32m----> 3\u001b[0m \u001b[43mObsSequence\u001b[49m\u001b[43m(\u001b[49m\u001b[43m[\u001b[49m\u001b[43mObservable_Unique\u001b[49m\u001b[43m(\u001b[49m\u001b[38;5;124;43m'\u001b[39;49m\u001b[38;5;124;43ma\u001b[39;49m\u001b[38;5;124;43m'\u001b[39;49m\u001b[43m)\u001b[49m\u001b[43m]\u001b[49m\u001b[43m)\u001b[49m\n",
      "File \u001b[1;32mE:\\continuous_ooms\\src\\oom\\observable\\ObsSequence.py:28\u001b[0m, in \u001b[0;36mObsSequence.__init__\u001b[1;34m(self, observations)\u001b[0m\n\u001b[0;32m     24\u001b[0m \u001b[38;5;250m\u001b[39m\u001b[38;5;124;03m\"\"\"\u001b[39;00m\n\u001b[0;32m     25\u001b[0m \u001b[38;5;124;03m\u001b[39;00m\n\u001b[0;32m     26\u001b[0m \u001b[38;5;124;03m\"\"\"\u001b[39;00m\n\u001b[0;32m     27\u001b[0m datafun \u001b[38;5;241m=\u001b[39m \u001b[38;5;28mself\u001b[39m\u001b[38;5;241m.\u001b[39m_get_list\n\u001b[1;32m---> 28\u001b[0m \u001b[38;5;28mself\u001b[39m\u001b[38;5;241m.\u001b[39m_data: \u001b[38;5;28mlist\u001b[39m[Observable] \u001b[38;5;241m=\u001b[39m \u001b[43mdatafun\u001b[49m\u001b[43m(\u001b[49m\u001b[43mobservations\u001b[49m\u001b[43m)\u001b[49m\n",
      "File \u001b[1;32mE:\\continuous_ooms\\src\\oom\\observable\\ObsSequence.py:43\u001b[0m, in \u001b[0;36mObsSequence._get_list\u001b[1;34m(self, observations)\u001b[0m\n\u001b[0;32m     41\u001b[0m \u001b[38;5;28;01mif\u001b[39;00m \u001b[38;5;28misinstance\u001b[39m(observations[\u001b[38;5;241m0\u001b[39m], \u001b[38;5;28mstr\u001b[39m):\n\u001b[0;32m     42\u001b[0m \t\u001b[38;5;28;01mreturn\u001b[39;00m observations\n\u001b[1;32m---> 43\u001b[0m \u001b[38;5;28;01mraise\u001b[39;00m \u001b[38;5;167;01mTypeError\u001b[39;00m(\u001b[38;5;124m\"\u001b[39m\u001b[38;5;124mobservations is not a sequence of strings or observables.\u001b[39m\u001b[38;5;124m\"\u001b[39m)\n",
      "\u001b[1;31mTypeError\u001b[0m: observations is not a sequence of strings or observables."
     ]
    }
   ],
   "source": [
    "from src.oom.observable import ObsSequence\n",
    "\n",
    "ObsSequence([Observable_Unique('a')])"
   ]
  },
  {
   "cell_type": "code",
   "execution_count": 17,
   "id": "de96ec10-1a8f-4f06-a624-6019cd978719",
   "metadata": {},
   "outputs": [
    {
     "data": {
      "text/plain": [
       "152"
      ]
     },
     "execution_count": 17,
     "metadata": {},
     "output_type": "execute_result"
    }
   ],
   "source": [
    "import sys\n",
    "sys.getsizeof(['Oa', 'Ob', 'Oc', 'Oa', 'Oa', 'Oa', 'Oa', 'Oa', 'Oa', 'Oa', 'Oa', 'Oa'])"
   ]
  },
  {
   "cell_type": "code",
   "execution_count": 18,
   "id": "fde7be24-469b-4695-b54d-d73c5714965e",
   "metadata": {},
   "outputs": [
    {
     "data": {
      "text/plain": [
       "184"
      ]
     },
     "execution_count": 18,
     "metadata": {},
     "output_type": "execute_result"
    }
   ],
   "source": [
    "sys.getsizeof([Observable(name[1:]) for name in ['Oa', 'Ob', 'Oc', 'Oa', 'Oa', 'Oa', 'Oa', 'Oa', 'Oa', 'Oa', 'Oa', 'Oa']])"
   ]
  },
  {
   "cell_type": "code",
   "execution_count": 19,
   "id": "dfa05f24-3384-40b4-b2c0-c2cc7bb4070d",
   "metadata": {},
   "outputs": [],
   "source": [
    "class Observable_NotUnique:\n",
    "    def __init__(self, name):\n",
    "        self.uid = 'O' + name"
   ]
  },
  {
   "cell_type": "code",
   "execution_count": 20,
   "id": "1696261b-e79d-4306-b1f2-5a413d35ecde",
   "metadata": {},
   "outputs": [
    {
     "data": {
      "text/plain": [
       "184"
      ]
     },
     "execution_count": 20,
     "metadata": {},
     "output_type": "execute_result"
    }
   ],
   "source": [
    "sys.getsizeof([Observable_NotUnique(name[1:]) for name in ['Oa', 'Ob', 'Oc', 'Oa', 'Oa', 'Oa', 'Oa', 'Oa', 'Oa', 'Oa', 'Oa', 'Oa']])"
   ]
  },
  {
   "cell_type": "code",
   "execution_count": 29,
   "id": "b41bfded-a277-4033-bee3-97e4d7195c77",
   "metadata": {},
   "outputs": [
    {
     "name": "stdout",
     "output_type": "stream",
     "text": [
      "2568660876752 48\n",
      "2568660876992 48\n",
      "2568659071536 48\n",
      "2568661141504 48\n",
      "2568661141936 48\n",
      "2568661140592 48\n",
      "2568661142512 48\n",
      "2568661141312 48\n",
      "2568661140976 48\n",
      "2568661142656 48\n",
      "2568661142368 48\n",
      "2568661141744 48\n",
      "184\n"
     ]
    }
   ],
   "source": [
    "mylist = [Observable_NotUnique(name[1:]) for name in ['Oa', 'Ob', 'Oc', 'Oa', 'Oa', 'Oa', 'Oa', 'Oa', 'Oa', 'Oa', 'Oa', 'Oa']]\n",
    "for item in mylist:\n",
    "    print(id(item), sys.getsizeof(item))\n",
    "print(sys.getsizeof(mylist))"
   ]
  },
  {
   "cell_type": "code",
   "execution_count": 30,
   "id": "2d4eee83-5cb1-48df-baea-499f31bc13ac",
   "metadata": {},
   "outputs": [
    {
     "name": "stdout",
     "output_type": "stream",
     "text": [
      "2568660868832 48\n",
      "2568660874448 48\n",
      "2568660867248 48\n",
      "2568660868832 48\n",
      "2568660868832 48\n",
      "2568660868832 48\n",
      "2568660868832 48\n",
      "2568660868832 48\n",
      "2568660868832 48\n",
      "2568660868832 48\n",
      "2568660868832 48\n",
      "2568660868832 48\n",
      "184\n"
     ]
    }
   ],
   "source": [
    "mylist = [Observable_Unique(name[1:]) for name in ['Oa', 'Ob', 'Oc', 'Oa', 'Oa', 'Oa', 'Oa', 'Oa', 'Oa', 'Oa', 'Oa', 'Oa']]\n",
    "for item in mylist:\n",
    "    print(id(item), sys.getsizeof(item))\n",
    "print(sys.getsizeof(mylist))"
   ]
  },
  {
   "cell_type": "code",
   "execution_count": 40,
   "id": "267b8405-1988-4f98-8e7e-1ba4d9d41110",
   "metadata": {},
   "outputs": [
    {
     "name": "stdout",
     "output_type": "stream",
     "text": [
      "281\n",
      "760\n",
      "328\n"
     ]
    }
   ],
   "source": [
    "from __future__ import print_function\n",
    "from sys import getsizeof, stderr\n",
    "from itertools import chain\n",
    "from collections import deque\n",
    "try:\n",
    "    from reprlib import repr\n",
    "except ImportError:\n",
    "    pass\n",
    "\n",
    "def total_size(o, handlers={}, verbose=False):\n",
    "    \"\"\" Returns the approximate memory footprint an object and all of its contents.\n",
    "\n",
    "    Automatically finds the contents of the following builtin containers and\n",
    "    their subclasses:  tuple, list, deque, dict, set and frozenset.\n",
    "    To search other containers, add handlers to iterate over their contents:\n",
    "\n",
    "        handlers = {SomeContainerClass: iter,\n",
    "                    OtherContainerClass: OtherContainerClass.get_elements}\n",
    "\n",
    "    \"\"\"\n",
    "    dict_handler = lambda d: chain.from_iterable(d.items())\n",
    "    all_handlers = {tuple: iter,\n",
    "                    list: iter,\n",
    "                    deque: iter,\n",
    "                    dict: dict_handler,\n",
    "                    set: iter,\n",
    "                    frozenset: iter,\n",
    "                   }\n",
    "    all_handlers.update(handlers)     # user handlers take precedence\n",
    "    seen = set()                      # track which object id's have already been seen\n",
    "    default_size = getsizeof(0)       # estimate sizeof object without __sizeof__\n",
    "\n",
    "    def sizeof(o):\n",
    "        if id(o) in seen:       # do not double count the same object\n",
    "            return 0\n",
    "        seen.add(id(o))\n",
    "        s = getsizeof(o, default_size)\n",
    "\n",
    "        if verbose:\n",
    "            print(s, type(o), repr(o), file=stderr)\n",
    "\n",
    "        for typ, handler in all_handlers.items():\n",
    "            if isinstance(o, typ):\n",
    "                s += sum(map(sizeof, handler(o)))\n",
    "                break\n",
    "        return s\n",
    "\n",
    "    return sizeof(o)\n",
    "\n",
    "\n",
    "##### Example call #####\n",
    "mylist = ['Oa', 'Ob', 'Oc', 'Oa', 'Oa', 'Oa', 'Oa', 'Oa', 'Oa', 'Oa', 'Oa', 'Oa']\n",
    "print(total_size(mylist))\n",
    "mylist = [Observable_NotUnique(name[1:]) for name in ['Oa', 'Ob', 'Oc', 'Oa', 'Oa', 'Oa', 'Oa', 'Oa', 'Oa', 'Oa', 'Oa', 'Oa']]\n",
    "print(total_size(mylist))\n",
    "mylist = [Observable_Unique(name[1:]) for name in ['Oa', 'Ob', 'Oc', 'Oa', 'Oa', 'Oa', 'Oa', 'Oa', 'Oa', 'Oa', 'Oa', 'Oa']]\n",
    "print(total_size(mylist))"
   ]
  },
  {
   "cell_type": "code",
   "execution_count": null,
   "id": "0dc34b92-bd6e-4ac4-9af6-15b7f160481c",
   "metadata": {},
   "outputs": [],
   "source": []
  }
 ],
 "metadata": {
  "kernelspec": {
   "display_name": "Python 3 (ipykernel)",
   "language": "python",
   "name": "python3"
  },
  "language_info": {
   "codemirror_mode": {
    "name": "ipython",
    "version": 3
   },
   "file_extension": ".py",
   "mimetype": "text/x-python",
   "name": "python",
   "nbconvert_exporter": "python",
   "pygments_lexer": "ipython3",
   "version": "3.12.1"
  }
 },
 "nbformat": 4,
 "nbformat_minor": 5
}
