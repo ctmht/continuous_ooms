{
 "cells": [
  {
   "cell_type": "code",
   "execution_count": 1,
   "id": "999901e9-7572-42f2-ac89-ff89e4a76d5f",
   "metadata": {},
   "outputs": [],
   "source": [
    "import numpy as np"
   ]
  },
  {
   "cell_type": "code",
   "execution_count": 6,
   "id": "a9b36525-f852-4e24-8f8d-131cc6112820",
   "metadata": {},
   "outputs": [],
   "source": [
    "d = 5\n",
    "mat = np.random.rand(d, d)\n",
    "vec = np.random.rand(d, 1)"
   ]
  },
  {
   "cell_type": "code",
   "execution_count": 11,
   "id": "46c2458c-37e5-44c2-a2e2-32c185e057da",
   "metadata": {},
   "outputs": [
    {
     "data": {
      "text/plain": [
       "array([[0.86599576, 0.78748541, 0.43193773, 0.88944031, 0.2511575 ],\n",
       "       [0.94818636, 0.23250273, 0.41894702, 0.09244229, 0.30302969],\n",
       "       [0.41719884, 0.28913008, 0.55874739, 0.47886223, 0.13198466],\n",
       "       [0.18935206, 0.1600133 , 0.70157059, 0.73753129, 0.36556708],\n",
       "       [0.33730307, 0.91417786, 0.10894413, 0.02383291, 0.54090727]])"
      ]
     },
     "execution_count": 11,
     "metadata": {},
     "output_type": "execute_result"
    }
   ],
   "source": [
    "mat"
   ]
  },
  {
   "cell_type": "code",
   "execution_count": 12,
   "id": "8a5aca30-0965-45d3-a772-76858f873166",
   "metadata": {},
   "outputs": [
    {
     "data": {
      "text/plain": [
       "array([[0.20200686],\n",
       "       [0.36128421],\n",
       "       [0.95386259],\n",
       "       [0.45124218],\n",
       "       [0.21887273]])"
      ]
     },
     "execution_count": 12,
     "metadata": {},
     "output_type": "execute_result"
    }
   ],
   "source": [
    "vec"
   ]
  },
  {
   "cell_type": "code",
   "execution_count": 13,
   "id": "776feb01-a2d4-4c2e-aa6a-84c03b28ca65",
   "metadata": {},
   "outputs": [
    {
     "data": {
      "text/plain": [
       "array([[1.32777687],\n",
       "       [0.7831964 ],\n",
       "       [0.96667408],\n",
       "       [1.17808053],\n",
       "       [0.63147756]])"
      ]
     },
     "execution_count": 13,
     "metadata": {},
     "output_type": "execute_result"
    }
   ],
   "source": [
    "mat @ vec"
   ]
  },
  {
   "cell_type": "code",
   "execution_count": 16,
   "id": "d4eb0ede-e6c6-409f-9ae2-3f8b244726f2",
   "metadata": {},
   "outputs": [
    {
     "name": "stdout",
     "output_type": "stream",
     "text": [
      "985 ns ± 5.33 ns per loop (mean ± std. dev. of 7 runs, 1,000,000 loops each)\n"
     ]
    }
   ],
   "source": [
    "%timeit mat @ vec"
   ]
  },
  {
   "cell_type": "code",
   "execution_count": 18,
   "id": "b5997c26-8e28-419e-a639-a86ab8361ec7",
   "metadata": {},
   "outputs": [],
   "source": [
    "mat = np.matrix(mat)\n",
    "vec = np.matrix(vec)"
   ]
  },
  {
   "cell_type": "code",
   "execution_count": 20,
   "id": "a1e50c4a-33ad-4203-b33b-48aefe30198a",
   "metadata": {},
   "outputs": [
    {
     "name": "stdout",
     "output_type": "stream",
     "text": [
      "3.11 μs ± 10.5 ns per loop (mean ± std. dev. of 7 runs, 100,000 loops each)\n"
     ]
    }
   ],
   "source": [
    "%timeit mat * vec"
   ]
  },
  {
   "cell_type": "code",
   "execution_count": 30,
   "id": "452300d4-09dd-48ed-b465-0c8eed2ec70d",
   "metadata": {},
   "outputs": [
    {
     "name": "stdout",
     "output_type": "stream",
     "text": [
      "0.9110621309661517\n",
      "[[0.37627366]\n",
      " [0.06236079]\n",
      " [0.73228714]\n",
      " [0.23314908]\n",
      " [0.05370164]]\n",
      "[0.37627366 0.43863445 1.17092159 1.40407067 1.45777231]\n",
      "[False False  True  True  True]\n",
      "2\n",
      "2\n"
     ]
    }
   ],
   "source": [
    "p_vec = np.random.rand(d, 1)\n",
    "cutoff = np.random.rand()\n",
    "print(\n",
    "    cutoff,\n",
    "    p_vec,\n",
    "    np.cumsum(p_vec),\n",
    "    np.cumsum(p_vec) > cutoff,\n",
    "    np.argmax(np.cumsum(p_vec) > cutoff),\n",
    "    np.searchsorted(np.cumsum(p_vec), cutoff),\n",
    "    sep = '\\n'\n",
    ")"
   ]
  },
  {
   "cell_type": "code",
   "execution_count": 40,
   "id": "df1b3b22-ffdf-4862-be9f-9b848064a5f1",
   "metadata": {},
   "outputs": [
    {
     "name": "stdout",
     "output_type": "stream",
     "text": [
      "23.6 μs ± 223 ns per loop (mean ± std. dev. of 7 runs, 10,000 loops each)\n"
     ]
    }
   ],
   "source": [
    "%%timeit\n",
    "mylist = list(range(d))\n",
    "p_vec = np.random.rand(d)\n",
    "p_vec /= np.sum(p_vec)\n",
    "np.random.choice(mylist, p = p_vec)"
   ]
  },
  {
   "cell_type": "code",
   "execution_count": 41,
   "id": "99d68702-824a-4bc6-b9eb-23a4e49e691f",
   "metadata": {},
   "outputs": [
    {
     "name": "stdout",
     "output_type": "stream",
     "text": [
      "11.5 μs ± 119 ns per loop (mean ± std. dev. of 7 runs, 100,000 loops each)\n"
     ]
    }
   ],
   "source": [
    "%%timeit\n",
    "mylist = list(range(d))\n",
    "p_vec = np.random.rand(d)\n",
    "p_vec /= np.sum(p_vec)\n",
    "np.argmax(np.cumsum(p_vec) > np.random.rand())"
   ]
  },
  {
   "cell_type": "code",
   "execution_count": 42,
   "id": "ba96da4f-f6d4-4f7e-9046-31ec41f8e0ff",
   "metadata": {},
   "outputs": [
    {
     "name": "stdout",
     "output_type": "stream",
     "text": [
      "9.97 μs ± 121 ns per loop (mean ± std. dev. of 7 runs, 100,000 loops each)\n"
     ]
    }
   ],
   "source": [
    "%%timeit\n",
    "mylist = list(range(d))\n",
    "p_vec = np.random.rand(d)\n",
    "p_vec /= np.sum(p_vec)\n",
    "np.searchsorted(np.cumsum(p_vec), np.random.rand())"
   ]
  },
  {
   "cell_type": "code",
   "execution_count": 43,
   "id": "1aee7f6a-fdc3-4211-a5e9-7c6d38729a7e",
   "metadata": {},
   "outputs": [
    {
     "name": "stdout",
     "output_type": "stream",
     "text": [
      "5.3 μs ± 55.7 ns per loop (mean ± std. dev. of 7 runs, 100,000 loops each)\n"
     ]
    }
   ],
   "source": [
    "%%timeit\n",
    "mylist = list(range(d))\n",
    "p_vec = np.random.rand(d)\n",
    "p_vec /= np.sum(p_vec)"
   ]
  },
  {
   "cell_type": "code",
   "execution_count": 46,
   "id": "b02e17ab-f3eb-4f3e-85c1-92e302a43b5b",
   "metadata": {},
   "outputs": [
    {
     "name": "stdout",
     "output_type": "stream",
     "text": [
      "1.02 μs ± 14.8 ns per loop (mean ± std. dev. of 7 runs, 1,000,000 loops each)\n"
     ]
    }
   ],
   "source": [
    "%%timeit\n",
    "p_vec = np.random.rand(d, 1)\n",
    "p_vec.reshape(d)"
   ]
  },
  {
   "cell_type": "code",
   "execution_count": 47,
   "id": "b65d6320-bfe6-4a86-88f5-6e5bde703dd6",
   "metadata": {},
   "outputs": [
    {
     "name": "stdout",
     "output_type": "stream",
     "text": [
      "1.4 μs ± 3.32 ns per loop (mean ± std. dev. of 7 runs, 1,000,000 loops each)\n"
     ]
    }
   ],
   "source": [
    "%%timeit\n",
    "p_vec = np.random.rand(d, 1)\n",
    "p_vec.flatten()"
   ]
  },
  {
   "cell_type": "code",
   "execution_count": 53,
   "id": "3837e791-10ab-4417-8447-63f0ee6945e3",
   "metadata": {},
   "outputs": [
    {
     "name": "stdout",
     "output_type": "stream",
     "text": [
      "11.6 μs ± 97.6 ns per loop (mean ± std. dev. of 7 runs, 100,000 loops each)\n"
     ]
    }
   ],
   "source": [
    "%%timeit\n",
    "ia_margin = 0.005\n",
    "p_vec = np.random.rand(d)\n",
    "delta = np.sum((ia_margin - p_vec)[p_vec <= 0])\n",
    "p_plus = np.sum(p_vec[p_vec > 0])"
   ]
  },
  {
   "cell_type": "code",
   "execution_count": 52,
   "id": "b744d058-9c49-44d2-b69e-3327162d62d4",
   "metadata": {},
   "outputs": [
    {
     "name": "stdout",
     "output_type": "stream",
     "text": [
      "11.8 μs ± 96.7 ns per loop (mean ± std. dev. of 7 runs, 100,000 loops each)\n"
     ]
    }
   ],
   "source": [
    "%%timeit\n",
    "ia_margin = 0.005\n",
    "p_vec = np.random.rand(d)\n",
    "delta = np.sum(ia_margin - p_vec, where = p_vec <= 0)\n",
    "p_plus = np.sum(p_vec, where = p_vec > 0)"
   ]
  },
  {
   "cell_type": "code",
   "execution_count": null,
   "id": "631259dd-a78a-40b5-a7d2-86d5d03d9049",
   "metadata": {},
   "outputs": [],
   "source": []
  }
 ],
 "metadata": {
  "kernelspec": {
   "display_name": "Python 3 (ipykernel)",
   "language": "python",
   "name": "python3"
  },
  "language_info": {
   "codemirror_mode": {
    "name": "ipython",
    "version": 3
   },
   "file_extension": ".py",
   "mimetype": "text/x-python",
   "name": "python",
   "nbconvert_exporter": "python",
   "pygments_lexer": "ipython3",
   "version": "3.12.1"
  }
 },
 "nbformat": 4,
 "nbformat_minor": 5
}
