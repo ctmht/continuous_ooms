{
 "cells": [
  {
   "cell_type": "code",
   "execution_count": 69,
   "id": "c322c649-579c-4c84-a7b1-81a22dbe907f",
   "metadata": {},
   "outputs": [],
   "source": [
    "import numpy as np\n",
    "from hmmlearn import hmm\n",
    "np.random.seed(42)\n",
    "\n",
    "model = hmm.GaussianHMM(n_components=3, covariance_type=\"full\")\n",
    "model.startprob_ = np.array([0.6, 0.3, 0.1])\n",
    "model.transmat_ = np.array([[0.7, 0.2, 0.1],\n",
    "                            [0.3, 0.5, 0.2],\n",
    "                            [0.3, 0.3, 0.4]])\n",
    "model.means_ = np.array([[0.0], [3.0], [5.0]])\n",
    "model.covars_ = np.array([[1.0], [1.0], [0.5]]).reshape(np.array([[1.0], [1.0], [0.5]]).shape + (1,))\n",
    "X, Z = model.sample(10000)"
   ]
  },
  {
   "cell_type": "code",
   "execution_count": 70,
   "id": "223cd7b8-ccb2-48d1-ab60-070b6e534fae",
   "metadata": {},
   "outputs": [
    {
     "data": {
      "text/plain": [
       "[-1.1118801180469204,\n",
       " 0.31890218468938336,\n",
       " 0.2790412922001377,\n",
       " 4.010515284806527,\n",
       " -0.580878134023515,\n",
       " -0.5251698071781478,\n",
       " -2.6125490126936013,\n",
       " 0.9503696823969031,\n",
       " -0.4280460641762345,\n",
       " -0.7424068371191724]"
      ]
     },
     "execution_count": 70,
     "metadata": {},
     "output_type": "execute_result"
    }
   ],
   "source": [
    "list(X.flatten())[:10]"
   ]
  },
  {
   "cell_type": "code",
   "execution_count": 72,
   "id": "9458ce80-4652-4f20-b56d-c6cbd7d885d6",
   "metadata": {},
   "outputs": [
    {
     "data": {
      "text/plain": [
       "2.9463680510016252"
      ]
     },
     "execution_count": 72,
     "metadata": {},
     "output_type": "execute_result"
    }
   ],
   "source": [
    "seqlength = 10000\n",
    "-model.score(X[:seqlength]) / (seqlength * np.log(2))"
   ]
  },
  {
   "cell_type": "code",
   "execution_count": 61,
   "id": "b16d8756-f68a-4da8-b4da-d443e88cdbb7",
   "metadata": {},
   "outputs": [
    {
     "data": {
      "text/plain": [
       "array([[-1.11188012],\n",
       "       [ 0.31890218]])"
      ]
     },
     "execution_count": 61,
     "metadata": {},
     "output_type": "execute_result"
    }
   ],
   "source": [
    "X[:2]"
   ]
  },
  {
   "cell_type": "code",
   "execution_count": null,
   "id": "9e31b416-654b-448b-8e7f-31ac7a3ea0d3",
   "metadata": {},
   "outputs": [],
   "source": []
  }
 ],
 "metadata": {
  "kernelspec": {
   "display_name": "Python 3 (ipykernel)",
   "language": "python",
   "name": "python3"
  },
  "language_info": {
   "codemirror_mode": {
    "name": "ipython",
    "version": 3
   },
   "file_extension": ".py",
   "mimetype": "text/x-python",
   "name": "python",
   "nbconvert_exporter": "python",
   "pygments_lexer": "ipython3",
   "version": "3.12.1"
  }
 },
 "nbformat": 4,
 "nbformat_minor": 5
}
