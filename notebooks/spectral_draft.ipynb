{
 "cells": [
  {
   "cell_type": "code",
   "execution_count": 1,
   "id": "1c2649cc-7e19-4a3b-a0d9-c9f31a979db4",
   "metadata": {},
   "outputs": [],
   "source": [
    "from collections.abc import Iterator\n",
    "\n",
    "def word_generator(\n",
    "    possible_observations,\n",
    "    maxlen\n",
    ") -> Iterator[str]:\n",
    "    words = ['']\n",
    "    \n",
    "    for wlen in range(1, maxlen + 1):\n",
    "        # Save reference for which words already exist\n",
    "        cur_nwords = len(words)\n",
    "    \n",
    "        for idx, word in enumerate(words):\n",
    "            # Iterate through words that existed at the start of first loop\n",
    "            if idx >= cur_nwords:\n",
    "                break\n",
    "\n",
    "            for obs in possible_observations:\n",
    "                # Append another observation\n",
    "                new_word = word + obs\n",
    "                if new_word in words:\n",
    "                    continue\n",
    "                \n",
    "                yield new_word"
   ]
  },
  {
   "cell_type": "code",
   "execution_count": 139,
   "id": "59372de3-b326-4c32-a29f-5e6651ecb9d8",
   "metadata": {},
   "outputs": [],
   "source": [
    "import re\n",
    "import itertools\n",
    "\n",
    "import numpy as np"
   ]
  },
  {
   "cell_type": "code",
   "execution_count": 459,
   "id": "4f44e97c-2bd9-44fa-a087-76a76467f837",
   "metadata": {},
   "outputs": [],
   "source": [
    "def count_appearences(\n",
    "    observation,\n",
    "    *subwords\n",
    ") -> int:\n",
    "    word = \"\".join(subwords)\n",
    "    pattern = \"(?=(\" + word + \"))\"\n",
    "    count = len(re.findall(pattern, sbar))\n",
    "    return count\n",
    "\n",
    "\n",
    "def f_estimate(\n",
    "    observation,\n",
    "    *subwords\n",
    "):\n",
    "    word = \"\".join(subwords)\n",
    "    count = count_appearences(observation, word)\n",
    "    return count / (len(observation) - len(word) + 1)\n",
    "\n",
    "\n",
    "def get_matrix_estimates(\n",
    "    observation,\n",
    "    possible_observations,\n",
    "    chr_w,\n",
    "    ind_w,\n",
    ") -> np.array:\n",
    "    F_0J = np.asmatrix(np.zeros([1, len(ind_w)]))\n",
    "    F_I0 = np.asmatrix(np.zeros([len(chr_w), 1]))\n",
    "    F_IJ = np.asmatrix(np.zeros([len(chr_w), len(ind_w)]))\n",
    "    F_IzJ = [np.asmatrix(np.zeros([len(chr_w), len(ind_w)])) for _ in possible_observations]\n",
    "    \n",
    "    for cidx, cword in enumerate(chr_w):\n",
    "        # Compute one\n",
    "        F_I0[cidx, 0] = f_estimate(observation, cword)\n",
    "        \n",
    "        for iidx, iword in enumerate(ind_w):\n",
    "            # Compute F_IJ[cidx, iidx]\n",
    "            F_IJ[cidx, iidx] = f_estimate(observation, iword, cword)\n",
    "    \n",
    "            # Compute F_IzJ[cidx, iidx] for z in possible_observations\n",
    "            for zidx, z in enumerate(possible_observations):\n",
    "                F_IzJ[zidx][cidx, iidx] = f_estimate(observation, iword, z, cword)\n",
    "    \n",
    "    for iidx, iword in enumerate(ind_w):\n",
    "        # Compute other\n",
    "        F_0J[0, iidx] = f_estimate(observation, iword)\n",
    "    \n",
    "    return F_0J, F_I0, F_IJ, F_IzJ\n",
    "\n",
    "from sklearn.utils.extmath import randomized_svd\n",
    "def get_CQ_by_svd(\n",
    "    estimated_matrix,\n",
    "    target_dimension\n",
    "):\n",
    "    F = estimated_matrix\n",
    "    print_shapes(F)\n",
    "    print()\n",
    "    \n",
    "    U, S, Vt = randomized_svd(F, n_components = target_dimension)\n",
    "    U = np.asmatrix(U)\n",
    "    S = np.asmatrix(np.diag(S))\n",
    "    Vt = np.asmatrix(Vt)\n",
    "    print_shapes(U, S, Vt)\n",
    "    print()\n",
    "    print_shapes(Vt.T, np.linalg.pinv(S))\n",
    "    \n",
    "    C = U.T\n",
    "    Q = Vt.T * np.linalg.pinv(S)\n",
    "\n",
    "    # return np.asmatrix(U), np.diag(S), np.asmatrix(Vh)\n",
    "    return C, Q"
   ]
  },
  {
   "cell_type": "code",
   "execution_count": 460,
   "id": "8e745f74-341f-4597-ac51-a7baa16e5e22",
   "metadata": {},
   "outputs": [],
   "source": [
    "def print_shapes(*mats):\n",
    "    for M in mats:\n",
    "        print(f\"({M.shape[0]} x {M.shape[1]})\", end = \" \")"
   ]
  },
  {
   "cell_type": "code",
   "execution_count": 461,
   "id": "9b06b761-753f-4465-8771-95cfee9482a7",
   "metadata": {},
   "outputs": [],
   "source": [
    "def estimate_OOM(\n",
    "    observation,\n",
    "    possible_observations,\n",
    "    chr_w,\n",
    "    ind_w,\n",
    "    target_dimension\n",
    "):\n",
    "    F_0J, F_I0, F_IJ, F_IzJ = get_matrix_estimates(observation, possible_observations, chr_w, ind_w)\n",
    "    \n",
    "    C, Q = get_CQ_by_svd(F_IJ, target_dimension)\n",
    "    \n",
    "    V = C * F_IJ * Q\n",
    "    V_inv = np.linalg.inv(V)\n",
    "\n",
    "    # Get linear functional\n",
    "    sigma = F_0J * Q * V_inv\n",
    "\n",
    "    # Get observable operators\n",
    "    tau_z = []\n",
    "    for F_IkJ in F_IzJ:\n",
    "        tau_z.append(C * F_IkJ * Q * V_inv)\n",
    "    \n",
    "    # Get state vector\n",
    "    omega = C * F_I0\n",
    "    \n",
    "    return (sigma, tau_z, omega), F_IJ"
   ]
  },
  {
   "cell_type": "code",
   "execution_count": 492,
   "id": "86ca1460-1084-4d49-8e0a-6bccc515eca7",
   "metadata": {},
   "outputs": [
    {
     "name": "stdout",
     "output_type": "stream",
     "text": [
      "(6 x 7) \n",
      "(6 x 3) (3 x 3) (3 x 7) \n",
      "(7 x 3) (3 x 3) (3 x 6) (6 x 7) (7 x 3) \n",
      "(V)\n",
      "\n",
      "(1 x 7) (7 x 3) (3 x 3) \n",
      "(sigma)\n",
      "\n"
     ]
    }
   ],
   "source": [
    "sbar = \"abbbaaaabaabbbabbbbb\"\n",
    "Sigma = [\"a\", \"b\"]\n",
    "\n",
    "characteristic = [\"a\", \"b\", \"ab\", \"baa\", \"bbbb\", \"abb\"]\n",
    "indicative = [\"a\", \"b\", \"ab\", \"bba\", \"aba\", \"abb\", \"baba\"]\n",
    "\n",
    "d = 3\n",
    "\n",
    "(s, tau, w), F_IJ = estimate_OOM(sbar, Sigma, characteristic, indicative, d)"
   ]
  },
  {
   "cell_type": "code",
   "execution_count": 493,
   "id": "e05d1931-5980-4340-9fd9-9556ba21ddc0",
   "metadata": {},
   "outputs": [
    {
     "data": {
      "text/plain": [
       "matrix([[1.26559643, 0.10834783, 0.06432487]])"
      ]
     },
     "execution_count": 493,
     "metadata": {},
     "output_type": "execute_result"
    }
   ],
   "source": [
    "s"
   ]
  },
  {
   "cell_type": "code",
   "execution_count": 494,
   "id": "663b0f1e-a505-400c-b68e-4133880669a9",
   "metadata": {},
   "outputs": [
    {
     "data": {
      "text/plain": [
       "[matrix([[ 0.31516352,  0.50808543,  0.00149854],\n",
       "         [ 0.21045622, -0.13676364,  0.73258352],\n",
       "         [-0.00088359, -0.11535249, -0.09024112]]),\n",
       " matrix([[ 0.67045282, -0.28491454,  0.33098367],\n",
       "         [-0.04495364, -0.31113318, -1.06394449],\n",
       "         [-0.05085379,  0.40300997,  0.31762084]])]"
      ]
     },
     "execution_count": 494,
     "metadata": {},
     "output_type": "execute_result"
    }
   ],
   "source": [
    "tau"
   ]
  },
  {
   "cell_type": "code",
   "execution_count": 495,
   "id": "8a8ed62a-e1c4-476e-9bf7-22343927e9dd",
   "metadata": {},
   "outputs": [
    {
     "data": {
      "text/plain": [
       "matrix([[ 0.77235124],\n",
       "        [ 0.14067197],\n",
       "        [-0.04106427]])"
      ]
     },
     "execution_count": 495,
     "metadata": {},
     "output_type": "execute_result"
    }
   ],
   "source": [
    "w"
   ]
  },
  {
   "cell_type": "code",
   "execution_count": null,
   "id": "3cf99c37-b85b-4b0c-92a7-f4ae1b1d53f7",
   "metadata": {},
   "outputs": [],
   "source": []
  }
 ],
 "metadata": {
  "kernelspec": {
   "display_name": "Python 3 (ipykernel)",
   "language": "python",
   "name": "python3"
  },
  "language_info": {
   "codemirror_mode": {
    "name": "ipython",
    "version": 3
   },
   "file_extension": ".py",
   "mimetype": "text/x-python",
   "name": "python",
   "nbconvert_exporter": "python",
   "pygments_lexer": "ipython3",
   "version": "3.12.1"
  }
 },
 "nbformat": 4,
 "nbformat_minor": 5
}
