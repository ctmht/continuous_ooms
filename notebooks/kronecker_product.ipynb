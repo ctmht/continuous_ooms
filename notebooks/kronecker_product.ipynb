{
 "cells": [
  {
   "cell_type": "code",
   "execution_count": null,
   "id": "4a054e7d-f513-4391-9be9-208270658fed",
   "metadata": {
    "tags": []
   },
   "outputs": [],
   "source": [
    "# https://gist.github.com/ahwillia/9a81c0d091e39e319b4b9ab0919e304b\n",
    "\"\"\"\n",
    "References:\n",
    "\n",
    "  - B. Plateau, On the stochastic structure of parallelism and synchronization models for distributed algorithms.\n",
    "  Perform. Eval. Rev., 13 (1985), pp. 147–154.\n",
    "\n",
    "  - Dayar, T., & Orhan, M. C. (2015). On vector-Kronecker product multiplication with rectangular factors.\n",
    "  SIAM Journal on Scientific Computing, 37(5), S526-S543.\n",
    "\"\"\"\n",
    "\n",
    "from functools import reduce\n",
    "import numpy as np\n",
    "import numpy.random as npr\n",
    "import numba\n",
    "from numpy.testing import assert_array_almost_equal\n",
    "\n",
    "\n",
    "def kron_vec_prod(Xs, v, out=None, side=\"right\"):\n",
    "    \"\"\"\n",
    "    Computes matrix-vector multiplication between\n",
    "    matrix kron(X[0], X[1], ..., X[N]) and vector v.\n",
    "\n",
    "    Parameters\n",
    "    ----------\n",
    "    Xs : list of ndarray\n",
    "        List of square matrices defining Kronecker\n",
    "        structure.\n",
    "    v : ndarray\n",
    "        Vector to multiply.\n",
    "    out : ndarray or None\n",
    "        Output vector.\n",
    "    side : str\n",
    "        Either \"right\" to specify kron(Xs...) @ v\n",
    "        or \"left\" to specify v.T @ kron(Xs...).\n",
    "\n",
    "    Returns\n",
    "    -------\n",
    "    out : ndarray\n",
    "        Vector holding result.\n",
    "    \"\"\"\n",
    "\n",
    "    if (out is None) and (side == \"right\"):\n",
    "        out = np.empty(np.prod([X.shape[1] for X in Xs]))\n",
    "    elif (out is None) and (side == \"left\"):\n",
    "        out = np.empty(np.prod([X.shape[0] for X in Xs]))\n",
    "\n",
    "    if side == \"right\":\n",
    "        return _left_kron_vec_prod([X.T for X in Xs], v, out)\n",
    "    elif side == \"left\":\n",
    "        return _left_kron_vec_prod(Xs, v, out)\n",
    "    else:\n",
    "        raise ValueError(\n",
    "            \"Expected 'side' option to be 'left' or 'right'.\")\n",
    "\n",
    "\n",
    "@numba.jit(nopython=True)\n",
    "def _left_kron_vec_prod(Xs, p, q):\n",
    "\n",
    "    H = len(Xs)\n",
    "    rs = [X.shape[0] for X in Xs]\n",
    "\n",
    "    q[:] = p\n",
    "\n",
    "    ileft = 1\n",
    "    iright = 1\n",
    "    for X in Xs[1:]:\n",
    "        iright *= X.shape[0]\n",
    "\n",
    "    for h in range(H):\n",
    "\n",
    "        base_i = 0\n",
    "        base_j = 0\n",
    "\n",
    "        z = np.empty((1, rs[h]))\n",
    "        zp = np.empty((1, rs[h]))\n",
    "\n",
    "        for il in range(ileft):\n",
    "            for ir in range(iright):\n",
    "                ii = base_i + ir\n",
    "                ij = base_j + ir\n",
    "\n",
    "                for row in range(rs[h]):\n",
    "                    z[0, row] = q[ii]\n",
    "                    ii += iright\n",
    "\n",
    "                np.dot(z, Xs[h], out=zp)\n",
    "\n",
    "                for col in range(rs[h]):\n",
    "                    q[ij] = zp[0, col]\n",
    "                    ij += iright\n",
    "\n",
    "            base_i += rs[h] * iright\n",
    "            base_j += rs[h] * iright\n",
    "\n",
    "        if (h + 1) != H:\n",
    "            ileft *= rs[h]\n",
    "            iright //= rs[h + 1]\n",
    "\n",
    "    return q\n",
    "\n",
    "\n",
    "if __name__ == \"__main__\":\n",
    "    print(\"Testing...\")\n",
    "    dims = (2, 3, 4, 3, 2)\n",
    "\n",
    "    # Left multiplication, square matrices\n",
    "    Xs = [npr.randn(s, s) for s in dims]\n",
    "    p = npr.randn(np.prod(dims))\n",
    "\n",
    "    expected = (p[None, :] @ reduce(np.kron, Xs)).ravel()\n",
    "    actual = kron_vec_prod(Xs, p, side=\"left\")\n",
    "\n",
    "    assert_array_almost_equal(expected, actual)\n",
    "    print(\"* Passed 1 / 2\")\n",
    "\n",
    "    # Right multiplication, square matrices\n",
    "    Xs = [npr.randn(s, s) for s in dims]\n",
    "    p = npr.randn(np.prod(dims))\n",
    "\n",
    "    expected = reduce(np.kron, Xs) @ p\n",
    "    actual = kron_vec_prod(Xs, p, side=\"right\")\n",
    "\n",
    "    assert_array_almost_equal(expected, actual)\n",
    "    print(\"* Passed 2 / 2\")"
   ]
  },
  {
   "cell_type": "code",
   "execution_count": null,
   "id": "a49203d6-7e22-414d-97b7-98935becd07c",
   "metadata": {
    "tags": []
   },
   "outputs": [],
   "source": [
    "n = 4\n",
    "A = npr.randn(n, n)\n",
    "A"
   ]
  },
  {
   "cell_type": "code",
   "execution_count": null,
   "id": "16b5dd33-3ab0-49c0-97fa-5462e99c2848",
   "metadata": {
    "tags": []
   },
   "outputs": [],
   "source": [
    "k = 11\n",
    "p = npr.randn(n ** k)\n",
    "p"
   ]
  },
  {
   "cell_type": "code",
   "execution_count": null,
   "id": "05dcd9a5-e5a3-4799-b2e5-e35e950c1c1d",
   "metadata": {
    "tags": []
   },
   "outputs": [],
   "source": [
    "%timeit -n 1 -r 1 expected = reduce(np.kron, [A for _ in range(k)]) @ p\n",
    "expected"
   ]
  },
  {
   "cell_type": "code",
   "execution_count": null,
   "id": "5616f313-93b6-4d37-8315-4be693f7d376",
   "metadata": {
    "tags": []
   },
   "outputs": [],
   "source": [
    "%timeit -n 1 -r 1 actual = kron_vec_prod([A for _ in range(k)], p, side = \"right\")\n",
    "actual"
   ]
  },
  {
   "cell_type": "code",
   "execution_count": null,
   "id": "a2401c3b-de46-4987-83aa-177eb300aea8",
   "metadata": {},
   "outputs": [],
   "source": []
  }
 ],
 "metadata": {
  "kernelspec": {
   "display_name": "Python 3 (ipykernel)",
   "language": "python",
   "name": "python3"
  },
  "language_info": {
   "codemirror_mode": {
    "name": "ipython",
    "version": 3
   },
   "file_extension": ".py",
   "mimetype": "text/x-python",
   "name": "python",
   "nbconvert_exporter": "python",
   "pygments_lexer": "ipython3",
   "version": "3.12.1"
  }
 },
 "nbformat": 4,
 "nbformat_minor": 5
}
