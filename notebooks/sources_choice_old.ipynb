{
 "cells": [
  {
   "cell_type": "code",
   "execution_count": 1,
   "id": "c737f5fb-dbe2-48bd-aad4-d8e07af7cff4",
   "metadata": {},
   "outputs": [],
   "source": [
    "from matplotlib.collections import LineCollection\n",
    "from matplotlib import pyplot as plt\n",
    "from matplotlib import cm, colors\n",
    "from sklearn.manifold import TSNE, MDS\n",
    "from sklearn.decomposition import PCA\n",
    "from tqdm import tqdm\n",
    "import seaborn as sns\n",
    "import pandas as pd\n",
    "import numpy as np\n",
    "\n",
    "import os\n",
    "import sys\n",
    "module_path = os.path.abspath(os.path.join('..'))\n",
    "if module_path not in sys.path:\n",
    "    sys.path.append(module_path)\n",
    "\n",
    "np.set_printoptions(linewidth=300, suppress=True)\n",
    "pd.options.mode.chained_assignment = None  # default='warn'\n",
    "\n",
    "from src.experiments.util_experiments import *\n",
    "from src.oom import DiscreteValuedOOM, ContinuousValuedOOM\n",
    "from src.oom.util.few_step_prediction import quantify_distribution\n",
    "\n",
    "from matplotlib.collections import LineCollection\n",
    "from matplotlib import pyplot as plt\n",
    "from matplotlib import cm, colors\n",
    "from sklearn.manifold import TSNE, MDS\n",
    "from sklearn.decomposition import PCA\n",
    "from hmmlearn import hmm\n",
    "from tqdm import tqdm\n",
    "import seaborn as sns\n",
    "import pandas as pd\n",
    "import numpy as np\n",
    "\n",
    "import os\n",
    "import sys\n",
    "module_path = os.path.abspath(os.path.join('..'))\n",
    "if module_path not in sys.path:\n",
    "    sys.path.append(module_path)\n",
    "\n",
    "np.set_printoptions(linewidth=300, suppress=True)\n",
    "pd.options.mode.chained_assignment = None  # default='warn'\n",
    "\n",
    "from src.experiments.util_experiments import *\n",
    "from src.oom import DiscreteValuedOOM, ContinuousValuedOOM\n",
    "from src.oom.discrete_observable import DiscreteObservable\n",
    "from src.oom.util.few_step_prediction import quantify_distribution, kl_divergence, fix_pvec\n",
    "from src.oom.util.random_sparse import _generate_sparse_full_rank_matrix, _generate_observable_compound\n",
    "from src.oom.util.learning_discrete import estimate_matrices_discrete_fixed\n",
    "from src.oom.util.learning_continuous import get_transfer_matrix"
   ]
  },
  {
   "cell_type": "code",
   "execution_count": 8,
   "id": "648d4f0d-6df1-46c3-a7ed-427c8e8b19dc",
   "metadata": {},
   "outputs": [],
   "source": [
    "def compute_cross_entropy(source_oom, sequence, F_YX, indexing):\n",
    "    total_nll = 0.0\n",
    "    valid_terms = 0\n",
    "    \n",
    "    for t in range(3, len(sequence)):\n",
    "        history, next_symbol = sequence[t-3 : t], sequence[t]\n",
    "        index = \"\".join([obs.uid for obs in history])\n",
    "        col_idx = indexing.index(index)\n",
    "        next_idx = source_oom.observables.index(next_symbol)\n",
    "        \n",
    "        # Get probability from F_YX\n",
    "        prob = F_YX[col_idx, next_idx]\n",
    "        \n",
    "        # Avoid log(0) by adding a tiny epsilon (e.g., 1e-12) if necessary\n",
    "        if prob == 0:\n",
    "            prob = 1e-12  # Handle zero probabilities gracefully\n",
    "        \n",
    "        total_nll += -np.log2(prob)\n",
    "        valid_terms += 1\n",
    "    \n",
    "    # Step 3: Compute average NLL (cross-entropy)\n",
    "    H_fq3 = total_nll / valid_terms\n",
    "    return H_fq3"
   ]
  },
  {
   "cell_type": "code",
   "execution_count": 39,
   "id": "73e1afa2-7f2d-4fec-b052-72f37ef76b20",
   "metadata": {},
   "outputs": [],
   "source": [
    "def optimize_discrete(n: int, d: int, density: float, max_seeds: int) -> pd.Series:\n",
    "    # Define results dictionary\n",
    "    metrics_dv = {\n",
    "        \"spectral_gap\": [],\n",
    "        \"geo_mean_var\": [],\n",
    "        \"perc0fs_at_7\": [],\n",
    "        \"H_q3\": [],\n",
    "        \"H_f\": [],\n",
    "        \"H_uniform\": []\n",
    "    }\n",
    "\n",
    "    # Iterate through first max_seeds seeds\n",
    "    description = f\"Discrete-Valued Source Optimization ({n=} {d=} {density=})\"\n",
    "    for DVSEED in tqdm(range(max_seeds), desc = description):\n",
    "        # Create source OOM as an HMM with the given paramters for this seed\n",
    "        oom_disc = make_source(dimension = d, alphabet_size = n, density = density, seed = DVSEED)\n",
    "\n",
    "        quant7 = quantify_distribution(steps=7, state=oom_disc.start_state, operators=oom_disc.operators, lin_func=oom_disc.lin_func)\n",
    "        perc0fs_at_7 = np.average(quant7 == 0)\n",
    "        # print(perc0fs_at_7)\n",
    "        if perc0fs_at_7 > n**(-2):\n",
    "            continue\n",
    "        \n",
    "        # Compute spectral gap\n",
    "        transition_matrix = np.sum(oom_disc.operators, axis = 0)\n",
    "        eigenvalues, _ = np.linalg.eig(transition_matrix)\n",
    "        eigenvalues = np.sort(np.abs(eigenvalues))[::-1]  # Sort eigenvalues\n",
    "        spectral_gap = eigenvalues[0] - eigenvalues[1]    # Spectral gap\n",
    "\n",
    "        # Compute entropies\n",
    "        gen = oom_disc.generate(10_000, reduced=False)\n",
    "        estimate_matrices_3rdorder = estimate_matrices_discrete_fixed(\n",
    "            sequence=gen.sequence,\n",
    "            len_cwords=1,\n",
    "            len_iwords=3,\n",
    "            indexing=True\n",
    "        )\n",
    "        indexing = list(estimate_matrices_3rdorder[-1])\n",
    "        F_YX_3rdorder = estimate_matrices_3rdorder[0][0]\n",
    "        F_YX_3rdorder /= F_YX_3rdorder.sum(axis=0)\n",
    "        \n",
    "        nll_3rdorder = compute_cross_entropy(oom_disc, gen.sequence, F_YX_3rdorder, indexing)\n",
    "        nll_f = gen.nll_list[-1]\n",
    "    \n",
    "        # Compute geometric mean of variances on PC1, PC2 axes\n",
    "        pvecs = np.vstack([pvec for pvec in gen.p_vec_list if not np.any(np.isnan(pvec))])\n",
    "        pvs_embeds_pca = PCA(n_components = 2).fit_transform(pvecs)\n",
    "        x_pca = pvs_embeds_pca[:,0]\n",
    "        y_pca = pvs_embeds_pca[:,1]\n",
    "        var_pc1 = np.var(x_pca)\n",
    "        var_pc2 = np.var(y_pca)\n",
    "        geometric_mean = np.sqrt(var_pc1 * var_pc2)\n",
    "    \n",
    "        # Save results\n",
    "        metrics_dv[\"spectral_gap\"].append(spectral_gap)\n",
    "        metrics_dv[\"geo_mean_var\"].append(geometric_mean)\n",
    "        metrics_dv[\"perc0fs_at_7\"].append(perc0fs_at_7)\n",
    "        metrics_dv[\"H_q3\"].append(nll_3rdorder)\n",
    "        metrics_dv[\"H_f\"].append(nll_f)\n",
    "        metrics_dv[\"H_uniform\"].append(np.log2(n))\n",
    "\n",
    "    # Convert to pandas\n",
    "    metrics_dv_df = pd.DataFrame(metrics_dv)\n",
    "\n",
    "    # print(metrics_dv)\n",
    "\n",
    "    # Process and reorder columns\n",
    "    metrics_dv_df = metrics_dv_df.reset_index().rename({\"index\": \"DVSEED\"}, axis = 1)\n",
    "    metrics_dv_df[\"_ent_diff\"] = metrics_dv_df[\"H_q3\"] - metrics_dv_df[\"H_f\"]\n",
    "    metrics_dv_df[\"_norm_spectral_gap\"] = 1 - (metrics_dv_df[\"spectral_gap\"] - metrics_dv_df[\"spectral_gap\"].min()) / (metrics_dv_df[\"spectral_gap\"].max() - metrics_dv_df[\"spectral_gap\"].min())\n",
    "    metrics_dv_df[\"_norm_geo_mean_var\"] = (metrics_dv_df[\"geo_mean_var\"] - metrics_dv_df[\"geo_mean_var\"].min()) / (metrics_dv_df[\"geo_mean_var\"].max() - metrics_dv_df[\"geo_mean_var\"].min())\n",
    "    metrics_dv_df[\"_norm_weighted_sum\"] = 0.5 * (metrics_dv_df[\"_norm_spectral_gap\"] + metrics_dv_df[\"_norm_geo_mean_var\"])\n",
    "    \n",
    "    metrics_dv_df = metrics_dv_df.sort_values([\"_ent_diff\", \"_norm_weighted_sum\"], ascending=False).query(\"H_f < H_uniform & _norm_weighted_sum > 0.5\")\n",
    "    dv_seed_best = metrics_dv_df[\"DVSEED\"].iloc[0]\n",
    "    oom_disc_stats = metrics_dv_df.iloc[0]\n",
    "    return dv_seed_best, oom_disc_stats, metrics_dv_df"
   ]
  },
  {
   "cell_type": "code",
   "execution_count": 43,
   "id": "be515b3e-5c09-4c12-aeb1-cb65aa062075",
   "metadata": {},
   "outputs": [
    {
     "name": "stderr",
     "output_type": "stream",
     "text": [
      "Discrete-Valued Source Optimization (n=3 d=10 density=0.4): 100%|████████████████████| 100/100 [01:17<00:00,  1.29it/s]\n"
     ]
    }
   ],
   "source": [
    "S_3_results = optimize_discrete(3, 10, 0.4, 100)"
   ]
  },
  {
   "cell_type": "code",
   "execution_count": 45,
   "id": "738d9b9d-24a3-495d-b486-a874a84b9d21",
   "metadata": {},
   "outputs": [
    {
     "data": {
      "text/html": [
       "<div>\n",
       "<style scoped>\n",
       "    .dataframe tbody tr th:only-of-type {\n",
       "        vertical-align: middle;\n",
       "    }\n",
       "\n",
       "    .dataframe tbody tr th {\n",
       "        vertical-align: top;\n",
       "    }\n",
       "\n",
       "    .dataframe thead th {\n",
       "        text-align: right;\n",
       "    }\n",
       "</style>\n",
       "<table border=\"1\" class=\"dataframe\">\n",
       "  <thead>\n",
       "    <tr style=\"text-align: right;\">\n",
       "      <th></th>\n",
       "      <th>DVSEED</th>\n",
       "      <th>spectral_gap</th>\n",
       "      <th>geo_mean_var</th>\n",
       "      <th>perc0fs_at_7</th>\n",
       "      <th>H_q3</th>\n",
       "      <th>H_f</th>\n",
       "      <th>H_uniform</th>\n",
       "      <th>_ent_diff</th>\n",
       "      <th>_norm_spectral_gap</th>\n",
       "      <th>_norm_geo_mean_var</th>\n",
       "      <th>_norm_weighted_sum</th>\n",
       "    </tr>\n",
       "  </thead>\n",
       "  <tbody>\n",
       "    <tr>\n",
       "      <th>44</th>\n",
       "      <td>44</td>\n",
       "      <td>0.230524</td>\n",
       "      <td>0.023078</td>\n",
       "      <td>0.000000</td>\n",
       "      <td>7.496948</td>\n",
       "      <td>1.160497</td>\n",
       "      <td>1.584963</td>\n",
       "      <td>6.336450</td>\n",
       "      <td>0.853402</td>\n",
       "      <td>0.509285</td>\n",
       "      <td>0.681344</td>\n",
       "    </tr>\n",
       "    <tr>\n",
       "      <th>31</th>\n",
       "      <td>31</td>\n",
       "      <td>0.380404</td>\n",
       "      <td>0.023631</td>\n",
       "      <td>0.069959</td>\n",
       "      <td>6.811787</td>\n",
       "      <td>1.359266</td>\n",
       "      <td>1.584963</td>\n",
       "      <td>5.452521</td>\n",
       "      <td>0.510578</td>\n",
       "      <td>0.521735</td>\n",
       "      <td>0.516156</td>\n",
       "    </tr>\n",
       "    <tr>\n",
       "      <th>15</th>\n",
       "      <td>15</td>\n",
       "      <td>0.294908</td>\n",
       "      <td>0.016568</td>\n",
       "      <td>0.000000</td>\n",
       "      <td>6.383709</td>\n",
       "      <td>1.394160</td>\n",
       "      <td>1.584963</td>\n",
       "      <td>4.989549</td>\n",
       "      <td>0.706136</td>\n",
       "      <td>0.362702</td>\n",
       "      <td>0.534419</td>\n",
       "    </tr>\n",
       "    <tr>\n",
       "      <th>24</th>\n",
       "      <td>24</td>\n",
       "      <td>0.166433</td>\n",
       "      <td>0.031638</td>\n",
       "      <td>0.005487</td>\n",
       "      <td>6.148529</td>\n",
       "      <td>1.234611</td>\n",
       "      <td>1.584963</td>\n",
       "      <td>4.913917</td>\n",
       "      <td>1.000000</td>\n",
       "      <td>0.702007</td>\n",
       "      <td>0.851004</td>\n",
       "    </tr>\n",
       "    <tr>\n",
       "      <th>58</th>\n",
       "      <td>58</td>\n",
       "      <td>0.282622</td>\n",
       "      <td>0.024004</td>\n",
       "      <td>0.000000</td>\n",
       "      <td>5.546511</td>\n",
       "      <td>1.258251</td>\n",
       "      <td>1.584963</td>\n",
       "      <td>4.288261</td>\n",
       "      <td>0.734238</td>\n",
       "      <td>0.530121</td>\n",
       "      <td>0.632180</td>\n",
       "    </tr>\n",
       "    <tr>\n",
       "      <th>35</th>\n",
       "      <td>35</td>\n",
       "      <td>0.462164</td>\n",
       "      <td>0.044874</td>\n",
       "      <td>0.000000</td>\n",
       "      <td>5.501726</td>\n",
       "      <td>1.287992</td>\n",
       "      <td>1.584963</td>\n",
       "      <td>4.213734</td>\n",
       "      <td>0.323566</td>\n",
       "      <td>1.000000</td>\n",
       "      <td>0.661783</td>\n",
       "    </tr>\n",
       "    <tr>\n",
       "      <th>28</th>\n",
       "      <td>28</td>\n",
       "      <td>0.476622</td>\n",
       "      <td>0.033037</td>\n",
       "      <td>0.000000</td>\n",
       "      <td>5.361580</td>\n",
       "      <td>1.422901</td>\n",
       "      <td>1.584963</td>\n",
       "      <td>3.938679</td>\n",
       "      <td>0.290496</td>\n",
       "      <td>0.733500</td>\n",
       "      <td>0.511998</td>\n",
       "    </tr>\n",
       "  </tbody>\n",
       "</table>\n",
       "</div>"
      ],
      "text/plain": [
       "    DVSEED  spectral_gap  geo_mean_var  perc0fs_at_7      H_q3       H_f  \\\n",
       "44      44      0.230524      0.023078      0.000000  7.496948  1.160497   \n",
       "31      31      0.380404      0.023631      0.069959  6.811787  1.359266   \n",
       "15      15      0.294908      0.016568      0.000000  6.383709  1.394160   \n",
       "24      24      0.166433      0.031638      0.005487  6.148529  1.234611   \n",
       "58      58      0.282622      0.024004      0.000000  5.546511  1.258251   \n",
       "35      35      0.462164      0.044874      0.000000  5.501726  1.287992   \n",
       "28      28      0.476622      0.033037      0.000000  5.361580  1.422901   \n",
       "\n",
       "    H_uniform  _ent_diff  _norm_spectral_gap  _norm_geo_mean_var  \\\n",
       "44   1.584963   6.336450            0.853402            0.509285   \n",
       "31   1.584963   5.452521            0.510578            0.521735   \n",
       "15   1.584963   4.989549            0.706136            0.362702   \n",
       "24   1.584963   4.913917            1.000000            0.702007   \n",
       "58   1.584963   4.288261            0.734238            0.530121   \n",
       "35   1.584963   4.213734            0.323566            1.000000   \n",
       "28   1.584963   3.938679            0.290496            0.733500   \n",
       "\n",
       "    _norm_weighted_sum  \n",
       "44            0.681344  \n",
       "31            0.516156  \n",
       "15            0.534419  \n",
       "24            0.851004  \n",
       "58            0.632180  \n",
       "35            0.661783  \n",
       "28            0.511998  "
      ]
     },
     "execution_count": 45,
     "metadata": {},
     "output_type": "execute_result"
    }
   ],
   "source": [
    "S_3_results[2]"
   ]
  },
  {
   "cell_type": "code",
   "execution_count": 46,
   "id": "74b34976-a90a-4e59-bd2f-afd4be9d2cc4",
   "metadata": {},
   "outputs": [
    {
     "data": {
      "text/plain": [
       "DVSEED                44.000000\n",
       "spectral_gap           0.230524\n",
       "geo_mean_var           0.023078\n",
       "perc0fs_at_7           0.000000\n",
       "H_q3                   7.496948\n",
       "H_f                    1.160497\n",
       "H_uniform              1.584963\n",
       "_ent_diff              6.336450\n",
       "_norm_spectral_gap     0.853402\n",
       "_norm_geo_mean_var     0.509285\n",
       "_norm_weighted_sum     0.681344\n",
       "Name: 44, dtype: float64"
      ]
     },
     "execution_count": 46,
     "metadata": {},
     "output_type": "execute_result"
    }
   ],
   "source": [
    "S_3_results[1]"
   ]
  },
  {
   "cell_type": "code",
   "execution_count": 44,
   "id": "8298279f-0dfb-49ee-8554-cce28dec499b",
   "metadata": {},
   "outputs": [
    {
     "name": "stderr",
     "output_type": "stream",
     "text": [
      "Discrete-Valued Source Optimization (n=5 d=10 density=0.4): 100%|████████████████████| 100/100 [04:30<00:00,  2.70s/it]\n"
     ]
    }
   ],
   "source": [
    "S_5_results = optimize_discrete(5, 10, 0.4, 100)"
   ]
  },
  {
   "cell_type": "code",
   "execution_count": 47,
   "id": "b78ce6c3-a4a5-4eb2-8802-6b1a8c56a71d",
   "metadata": {},
   "outputs": [
    {
     "data": {
      "text/html": [
       "<div>\n",
       "<style scoped>\n",
       "    .dataframe tbody tr th:only-of-type {\n",
       "        vertical-align: middle;\n",
       "    }\n",
       "\n",
       "    .dataframe tbody tr th {\n",
       "        vertical-align: top;\n",
       "    }\n",
       "\n",
       "    .dataframe thead th {\n",
       "        text-align: right;\n",
       "    }\n",
       "</style>\n",
       "<table border=\"1\" class=\"dataframe\">\n",
       "  <thead>\n",
       "    <tr style=\"text-align: right;\">\n",
       "      <th></th>\n",
       "      <th>DVSEED</th>\n",
       "      <th>spectral_gap</th>\n",
       "      <th>geo_mean_var</th>\n",
       "      <th>perc0fs_at_7</th>\n",
       "      <th>H_q3</th>\n",
       "      <th>H_f</th>\n",
       "      <th>H_uniform</th>\n",
       "      <th>_ent_diff</th>\n",
       "      <th>_norm_spectral_gap</th>\n",
       "      <th>_norm_geo_mean_var</th>\n",
       "      <th>_norm_weighted_sum</th>\n",
       "    </tr>\n",
       "  </thead>\n",
       "  <tbody>\n",
       "    <tr>\n",
       "      <th>13</th>\n",
       "      <td>13</td>\n",
       "      <td>0.289279</td>\n",
       "      <td>0.040515</td>\n",
       "      <td>0.022502</td>\n",
       "      <td>20.205908</td>\n",
       "      <td>1.591012</td>\n",
       "      <td>2.321928</td>\n",
       "      <td>18.614896</td>\n",
       "      <td>0.719011</td>\n",
       "      <td>0.975325</td>\n",
       "      <td>0.847168</td>\n",
       "    </tr>\n",
       "    <tr>\n",
       "      <th>0</th>\n",
       "      <td>0</td>\n",
       "      <td>0.379462</td>\n",
       "      <td>0.027837</td>\n",
       "      <td>0.000000</td>\n",
       "      <td>17.908247</td>\n",
       "      <td>1.645087</td>\n",
       "      <td>2.321928</td>\n",
       "      <td>16.263160</td>\n",
       "      <td>0.512732</td>\n",
       "      <td>0.658861</td>\n",
       "      <td>0.585797</td>\n",
       "    </tr>\n",
       "    <tr>\n",
       "      <th>5</th>\n",
       "      <td>5</td>\n",
       "      <td>0.524639</td>\n",
       "      <td>0.041503</td>\n",
       "      <td>0.000000</td>\n",
       "      <td>11.951314</td>\n",
       "      <td>1.866645</td>\n",
       "      <td>2.321928</td>\n",
       "      <td>10.084670</td>\n",
       "      <td>0.180665</td>\n",
       "      <td>1.000000</td>\n",
       "      <td>0.590333</td>\n",
       "    </tr>\n",
       "    <tr>\n",
       "      <th>15</th>\n",
       "      <td>15</td>\n",
       "      <td>0.166433</td>\n",
       "      <td>0.018497</td>\n",
       "      <td>0.011827</td>\n",
       "      <td>12.018094</td>\n",
       "      <td>1.943256</td>\n",
       "      <td>2.321928</td>\n",
       "      <td>10.074838</td>\n",
       "      <td>1.000000</td>\n",
       "      <td>0.425737</td>\n",
       "      <td>0.712869</td>\n",
       "    </tr>\n",
       "    <tr>\n",
       "      <th>20</th>\n",
       "      <td>20</td>\n",
       "      <td>0.380404</td>\n",
       "      <td>0.025324</td>\n",
       "      <td>0.021606</td>\n",
       "      <td>10.314301</td>\n",
       "      <td>2.043117</td>\n",
       "      <td>2.321928</td>\n",
       "      <td>8.271184</td>\n",
       "      <td>0.510578</td>\n",
       "      <td>0.596133</td>\n",
       "      <td>0.553355</td>\n",
       "    </tr>\n",
       "    <tr>\n",
       "      <th>46</th>\n",
       "      <td>46</td>\n",
       "      <td>0.408418</td>\n",
       "      <td>0.025963</td>\n",
       "      <td>0.004275</td>\n",
       "      <td>8.780326</td>\n",
       "      <td>1.987432</td>\n",
       "      <td>2.321928</td>\n",
       "      <td>6.792895</td>\n",
       "      <td>0.446501</td>\n",
       "      <td>0.612096</td>\n",
       "      <td>0.529298</td>\n",
       "    </tr>\n",
       "    <tr>\n",
       "      <th>9</th>\n",
       "      <td>9</td>\n",
       "      <td>0.294908</td>\n",
       "      <td>0.023415</td>\n",
       "      <td>0.000000</td>\n",
       "      <td>8.643592</td>\n",
       "      <td>2.103061</td>\n",
       "      <td>2.321928</td>\n",
       "      <td>6.540530</td>\n",
       "      <td>0.706136</td>\n",
       "      <td>0.548486</td>\n",
       "      <td>0.627311</td>\n",
       "    </tr>\n",
       "    <tr>\n",
       "      <th>10</th>\n",
       "      <td>10</td>\n",
       "      <td>0.352484</td>\n",
       "      <td>0.024759</td>\n",
       "      <td>0.018893</td>\n",
       "      <td>8.559988</td>\n",
       "      <td>2.103870</td>\n",
       "      <td>2.321928</td>\n",
       "      <td>6.456118</td>\n",
       "      <td>0.574440</td>\n",
       "      <td>0.582033</td>\n",
       "      <td>0.578237</td>\n",
       "    </tr>\n",
       "  </tbody>\n",
       "</table>\n",
       "</div>"
      ],
      "text/plain": [
       "    DVSEED  spectral_gap  geo_mean_var  perc0fs_at_7       H_q3       H_f  \\\n",
       "13      13      0.289279      0.040515      0.022502  20.205908  1.591012   \n",
       "0        0      0.379462      0.027837      0.000000  17.908247  1.645087   \n",
       "5        5      0.524639      0.041503      0.000000  11.951314  1.866645   \n",
       "15      15      0.166433      0.018497      0.011827  12.018094  1.943256   \n",
       "20      20      0.380404      0.025324      0.021606  10.314301  2.043117   \n",
       "46      46      0.408418      0.025963      0.004275   8.780326  1.987432   \n",
       "9        9      0.294908      0.023415      0.000000   8.643592  2.103061   \n",
       "10      10      0.352484      0.024759      0.018893   8.559988  2.103870   \n",
       "\n",
       "    H_uniform  _ent_diff  _norm_spectral_gap  _norm_geo_mean_var  \\\n",
       "13   2.321928  18.614896            0.719011            0.975325   \n",
       "0    2.321928  16.263160            0.512732            0.658861   \n",
       "5    2.321928  10.084670            0.180665            1.000000   \n",
       "15   2.321928  10.074838            1.000000            0.425737   \n",
       "20   2.321928   8.271184            0.510578            0.596133   \n",
       "46   2.321928   6.792895            0.446501            0.612096   \n",
       "9    2.321928   6.540530            0.706136            0.548486   \n",
       "10   2.321928   6.456118            0.574440            0.582033   \n",
       "\n",
       "    _norm_weighted_sum  \n",
       "13            0.847168  \n",
       "0             0.585797  \n",
       "5             0.590333  \n",
       "15            0.712869  \n",
       "20            0.553355  \n",
       "46            0.529298  \n",
       "9             0.627311  \n",
       "10            0.578237  "
      ]
     },
     "execution_count": 47,
     "metadata": {},
     "output_type": "execute_result"
    }
   ],
   "source": [
    "S_5_results[2]"
   ]
  },
  {
   "cell_type": "code",
   "execution_count": 48,
   "id": "03296333-65d4-48b0-bee8-136ce71e892c",
   "metadata": {},
   "outputs": [
    {
     "data": {
      "text/plain": [
       "DVSEED                13.000000\n",
       "spectral_gap           0.289279\n",
       "geo_mean_var           0.040515\n",
       "perc0fs_at_7           0.022502\n",
       "H_q3                  20.205908\n",
       "H_f                    1.591012\n",
       "H_uniform              2.321928\n",
       "_ent_diff             18.614896\n",
       "_norm_spectral_gap     0.719011\n",
       "_norm_geo_mean_var     0.975325\n",
       "_norm_weighted_sum     0.847168\n",
       "Name: 13, dtype: float64"
      ]
     },
     "execution_count": 48,
     "metadata": {},
     "output_type": "execute_result"
    }
   ],
   "source": [
    "S_5_results[1]"
   ]
  },
  {
   "cell_type": "code",
   "execution_count": 49,
   "id": "8fbeec8b-d311-4469-ab4c-d7a27c5d2537",
   "metadata": {},
   "outputs": [],
   "source": []
  },
  {
   "cell_type": "code",
   "execution_count": 50,
   "id": "4d89d223-800c-4636-ba7d-59d35c9d54b0",
   "metadata": {},
   "outputs": [
    {
     "name": "stderr",
     "output_type": "stream",
     "text": [
      "Blended Source Optimization (n=3 d=10): 100%|████████████████████████████████████████| 100/100 [02:13<00:00,  1.33s/it]\n"
     ]
    }
   ],
   "source": [
    "S_3_disc_oom = make_source(alphabet_size=3, dimension=10, density=0.4, seed=int(S_3_results[0]))\n",
    "S_3_results_cont = optimize_continuous(S_3_disc_oom, 100)"
   ]
  },
  {
   "cell_type": "code",
   "execution_count": 51,
   "id": "242acb60-8b55-4b2f-a7d0-c6c624df5ece",
   "metadata": {},
   "outputs": [
    {
     "data": {
      "text/html": [
       "<div>\n",
       "<style scoped>\n",
       "    .dataframe tbody tr th:only-of-type {\n",
       "        vertical-align: middle;\n",
       "    }\n",
       "\n",
       "    .dataframe tbody tr th {\n",
       "        vertical-align: top;\n",
       "    }\n",
       "\n",
       "    .dataframe thead th {\n",
       "        text-align: right;\n",
       "    }\n",
       "</style>\n",
       "<table border=\"1\" class=\"dataframe\">\n",
       "  <thead>\n",
       "    <tr style=\"text-align: right;\">\n",
       "      <th></th>\n",
       "      <th>MFSEED</th>\n",
       "      <th>geo_mean_var</th>\n",
       "      <th>norm_geo_mean_var</th>\n",
       "    </tr>\n",
       "  </thead>\n",
       "  <tbody>\n",
       "    <tr>\n",
       "      <th>0</th>\n",
       "      <td>85</td>\n",
       "      <td>0.011369</td>\n",
       "      <td>1.000000</td>\n",
       "    </tr>\n",
       "    <tr>\n",
       "      <th>1</th>\n",
       "      <td>65</td>\n",
       "      <td>0.009545</td>\n",
       "      <td>0.834965</td>\n",
       "    </tr>\n",
       "    <tr>\n",
       "      <th>2</th>\n",
       "      <td>36</td>\n",
       "      <td>0.008778</td>\n",
       "      <td>0.765583</td>\n",
       "    </tr>\n",
       "    <tr>\n",
       "      <th>3</th>\n",
       "      <td>35</td>\n",
       "      <td>0.008188</td>\n",
       "      <td>0.712256</td>\n",
       "    </tr>\n",
       "    <tr>\n",
       "      <th>4</th>\n",
       "      <td>64</td>\n",
       "      <td>0.007597</td>\n",
       "      <td>0.658785</td>\n",
       "    </tr>\n",
       "    <tr>\n",
       "      <th>...</th>\n",
       "      <td>...</td>\n",
       "      <td>...</td>\n",
       "      <td>...</td>\n",
       "    </tr>\n",
       "    <tr>\n",
       "      <th>95</th>\n",
       "      <td>19</td>\n",
       "      <td>0.000639</td>\n",
       "      <td>0.029297</td>\n",
       "    </tr>\n",
       "    <tr>\n",
       "      <th>96</th>\n",
       "      <td>54</td>\n",
       "      <td>0.000592</td>\n",
       "      <td>0.025049</td>\n",
       "    </tr>\n",
       "    <tr>\n",
       "      <th>97</th>\n",
       "      <td>12</td>\n",
       "      <td>0.000448</td>\n",
       "      <td>0.012013</td>\n",
       "    </tr>\n",
       "    <tr>\n",
       "      <th>98</th>\n",
       "      <td>52</td>\n",
       "      <td>0.000421</td>\n",
       "      <td>0.009532</td>\n",
       "    </tr>\n",
       "    <tr>\n",
       "      <th>99</th>\n",
       "      <td>73</td>\n",
       "      <td>0.000315</td>\n",
       "      <td>0.000000</td>\n",
       "    </tr>\n",
       "  </tbody>\n",
       "</table>\n",
       "<p>100 rows × 3 columns</p>\n",
       "</div>"
      ],
      "text/plain": [
       "    MFSEED  geo_mean_var  norm_geo_mean_var\n",
       "0       85      0.011369           1.000000\n",
       "1       65      0.009545           0.834965\n",
       "2       36      0.008778           0.765583\n",
       "3       35      0.008188           0.712256\n",
       "4       64      0.007597           0.658785\n",
       "..     ...           ...                ...\n",
       "95      19      0.000639           0.029297\n",
       "96      54      0.000592           0.025049\n",
       "97      12      0.000448           0.012013\n",
       "98      52      0.000421           0.009532\n",
       "99      73      0.000315           0.000000\n",
       "\n",
       "[100 rows x 3 columns]"
      ]
     },
     "execution_count": 51,
     "metadata": {},
     "output_type": "execute_result"
    }
   ],
   "source": [
    "S_3_results_cont[2]"
   ]
  },
  {
   "cell_type": "code",
   "execution_count": 52,
   "id": "c09ade96-92e9-4c7e-bd02-9c63f88cce89",
   "metadata": {},
   "outputs": [
    {
     "data": {
      "text/plain": [
       "MFSEED               85.000000\n",
       "geo_mean_var          0.011369\n",
       "norm_geo_mean_var     1.000000\n",
       "Name: 0, dtype: float64"
      ]
     },
     "execution_count": 52,
     "metadata": {},
     "output_type": "execute_result"
    }
   ],
   "source": [
    "S_3_results_cont[1]"
   ]
  },
  {
   "cell_type": "code",
   "execution_count": 53,
   "id": "2aaaf177-7fd9-48a7-b2e8-11c4a9f10e2f",
   "metadata": {},
   "outputs": [
    {
     "name": "stderr",
     "output_type": "stream",
     "text": [
      "Blended Source Optimization (n=5 d=10): 100%|████████████████████████████████████████| 100/100 [02:16<00:00,  1.37s/it]\n"
     ]
    }
   ],
   "source": [
    "S_5_disc_oom = make_source(alphabet_size=5, dimension=10, density=0.4, seed=int(S_5_results[0]))\n",
    "S_5_results_cont = optimize_continuous(S_5_disc_oom, 100)"
   ]
  },
  {
   "cell_type": "code",
   "execution_count": 54,
   "id": "3ce4f181-73f9-41eb-a44d-ebbb96662873",
   "metadata": {},
   "outputs": [
    {
     "data": {
      "text/html": [
       "<div>\n",
       "<style scoped>\n",
       "    .dataframe tbody tr th:only-of-type {\n",
       "        vertical-align: middle;\n",
       "    }\n",
       "\n",
       "    .dataframe tbody tr th {\n",
       "        vertical-align: top;\n",
       "    }\n",
       "\n",
       "    .dataframe thead th {\n",
       "        text-align: right;\n",
       "    }\n",
       "</style>\n",
       "<table border=\"1\" class=\"dataframe\">\n",
       "  <thead>\n",
       "    <tr style=\"text-align: right;\">\n",
       "      <th></th>\n",
       "      <th>MFSEED</th>\n",
       "      <th>geo_mean_var</th>\n",
       "      <th>norm_geo_mean_var</th>\n",
       "    </tr>\n",
       "  </thead>\n",
       "  <tbody>\n",
       "    <tr>\n",
       "      <th>0</th>\n",
       "      <td>74</td>\n",
       "      <td>0.005838</td>\n",
       "      <td>1.000000</td>\n",
       "    </tr>\n",
       "    <tr>\n",
       "      <th>1</th>\n",
       "      <td>85</td>\n",
       "      <td>0.005477</td>\n",
       "      <td>0.934927</td>\n",
       "    </tr>\n",
       "    <tr>\n",
       "      <th>2</th>\n",
       "      <td>65</td>\n",
       "      <td>0.005334</td>\n",
       "      <td>0.909046</td>\n",
       "    </tr>\n",
       "    <tr>\n",
       "      <th>3</th>\n",
       "      <td>37</td>\n",
       "      <td>0.004561</td>\n",
       "      <td>0.769696</td>\n",
       "    </tr>\n",
       "    <tr>\n",
       "      <th>4</th>\n",
       "      <td>42</td>\n",
       "      <td>0.004407</td>\n",
       "      <td>0.741902</td>\n",
       "    </tr>\n",
       "    <tr>\n",
       "      <th>...</th>\n",
       "      <td>...</td>\n",
       "      <td>...</td>\n",
       "      <td>...</td>\n",
       "    </tr>\n",
       "    <tr>\n",
       "      <th>95</th>\n",
       "      <td>56</td>\n",
       "      <td>0.000402</td>\n",
       "      <td>0.019750</td>\n",
       "    </tr>\n",
       "    <tr>\n",
       "      <th>96</th>\n",
       "      <td>62</td>\n",
       "      <td>0.000390</td>\n",
       "      <td>0.017567</td>\n",
       "    </tr>\n",
       "    <tr>\n",
       "      <th>97</th>\n",
       "      <td>94</td>\n",
       "      <td>0.000373</td>\n",
       "      <td>0.014543</td>\n",
       "    </tr>\n",
       "    <tr>\n",
       "      <th>98</th>\n",
       "      <td>15</td>\n",
       "      <td>0.000320</td>\n",
       "      <td>0.004971</td>\n",
       "    </tr>\n",
       "    <tr>\n",
       "      <th>99</th>\n",
       "      <td>40</td>\n",
       "      <td>0.000293</td>\n",
       "      <td>0.000000</td>\n",
       "    </tr>\n",
       "  </tbody>\n",
       "</table>\n",
       "<p>100 rows × 3 columns</p>\n",
       "</div>"
      ],
      "text/plain": [
       "    MFSEED  geo_mean_var  norm_geo_mean_var\n",
       "0       74      0.005838           1.000000\n",
       "1       85      0.005477           0.934927\n",
       "2       65      0.005334           0.909046\n",
       "3       37      0.004561           0.769696\n",
       "4       42      0.004407           0.741902\n",
       "..     ...           ...                ...\n",
       "95      56      0.000402           0.019750\n",
       "96      62      0.000390           0.017567\n",
       "97      94      0.000373           0.014543\n",
       "98      15      0.000320           0.004971\n",
       "99      40      0.000293           0.000000\n",
       "\n",
       "[100 rows x 3 columns]"
      ]
     },
     "execution_count": 54,
     "metadata": {},
     "output_type": "execute_result"
    }
   ],
   "source": [
    "S_5_results_cont[2]"
   ]
  },
  {
   "cell_type": "code",
   "execution_count": 55,
   "id": "a0cf76fc-0159-49ed-85f8-c10ec001db13",
   "metadata": {},
   "outputs": [
    {
     "data": {
      "text/plain": [
       "MFSEED               74.000000\n",
       "geo_mean_var          0.005838\n",
       "norm_geo_mean_var     1.000000\n",
       "Name: 0, dtype: float64"
      ]
     },
     "execution_count": 55,
     "metadata": {},
     "output_type": "execute_result"
    }
   ],
   "source": [
    "S_5_results_cont[1]"
   ]
  },
  {
   "cell_type": "code",
   "execution_count": null,
   "id": "410b9d8e-23e3-4127-a878-bb0c0129d923",
   "metadata": {},
   "outputs": [],
   "source": []
  },
  {
   "cell_type": "code",
   "execution_count": null,
   "id": "da2c936b-9aec-4277-bbdb-bcd20ab78f21",
   "metadata": {},
   "outputs": [],
   "source": []
  },
  {
   "cell_type": "code",
   "execution_count": 57,
   "id": "1c5dae31-752e-49eb-ba72-560fdf9d88cb",
   "metadata": {},
   "outputs": [],
   "source": [
    "def plot_pca_results(x_pca, y_pca, fig, ax, title, scale='auto'):\n",
    "    ax.set_title(title)\n",
    "    points = np.array([x_pca, y_pca]).T.reshape(-1, 1, 2)\n",
    "    segments = np.concatenate([points[:-1], points[1:]], axis = 1)\n",
    "    cols = np.linspace(0, 1, len(x_pca))\n",
    "\n",
    "    cmap = sns.color_palette(\"flare\", as_cmap=True)\n",
    "    lc = LineCollection(segments, cmap = cmap, alpha = 0.5)\n",
    "    lc.set_array(cols)\n",
    "    lc.set_linewidth(0.15)\n",
    "    line = ax.add_collection(lc)\n",
    "\n",
    "    if scale == 'auto':\n",
    "        ax.autoscale()\n",
    "    else:\n",
    "        ax.set_xlim([-1, 1])\n",
    "        ax.set_ylim([-1, 1])\n",
    "    \n",
    "    ax.spines['left'].set_position('zero')\n",
    "    ax.spines['bottom'].set_position('zero')\n",
    "    ax.spines['right'].set_color('none')\n",
    "    ax.spines['top'].set_color('none')\n",
    "    ax.xaxis.set_ticks_position('bottom')\n",
    "    ax.yaxis.set_ticks_position('left')\n",
    "    \n",
    "    fig.colorbar(line, ax = ax)\n",
    "\n",
    "def make_plot(oom, gen, fig, ax, title):\n",
    "    pvecs = np.vstack([pvec for pvec in gen.p_vec_list if not np.any(np.isnan(pvec))])\n",
    "    \n",
    "    pvs_embeds_pca = PCA(n_components = 2).fit_transform(pvecs)\n",
    "    \n",
    "    x_pca = pvs_embeds_pca[:,0]\n",
    "    y_pca = pvs_embeds_pca[:,1]\n",
    "    \n",
    "    plot_pca_results(x_pca, y_pca, fig, ax, title, scale=0)\n",
    "\n",
    "def plot_mfs(cvoom, fig, ax, title, xlim = (-5, 5)):\n",
    "    xlimi, xlims = xlim\n",
    "    ax.set_title(title)\n",
    "    ax.set_xlim([xlimi, xlims])\n",
    "    \n",
    "    x = np.linspace(xlimi, xlims, (xlims - xlimi) * 1000)\n",
    "    for obs, mf in zip(cvoom.observables, cvoom.membership_fns):\n",
    "        ax.plot(x, mf.pdf(x), label=obs.uid)\n",
    "    ax.legend()\n",
    "\n",
    "    ax.spines['left'].set_position('zero')\n",
    "    ax.spines['bottom'].set_position('zero')\n",
    "    ax.spines['right'].set_color('none')\n",
    "    ax.spines['top'].set_color('none')\n",
    "    ax.xaxis.set_ticks_position('bottom')\n",
    "    ax.yaxis.set_ticks_position('left')"
   ]
  },
  {
   "cell_type": "code",
   "execution_count": 58,
   "id": "ce3063f9-4e07-4b9a-9c9c-c9b0125ef5fc",
   "metadata": {},
   "outputs": [
    {
     "data": {
      "image/png": "[encoded data removed]",
      "text/plain": [
       "<Figure size 600x900 with 5 Axes>"
      ]
     },
     "metadata": {},
     "output_type": "display_data"
    }
   ],
   "source": [
    "fig, axs = plt.subplots(3, 1, figsize=(6, 9), height_ratios=[1, 1, 0.5])\n",
    "axs = axs.flatten()\n",
    "\n",
    "# oom_disc = make_source(dimension = d, alphabet_size = n, density = density, seed = 10)\n",
    "# mfs = get_gaussian(seed = 10)(n)\n",
    "# oom_cont = ContinuousValuedOOM.from_discrete_valued_oom(oom_disc, mfs)\n",
    "oom_disc = make_source(alphabet_size=3, dimension=10, density=0.4, seed=int(S_3_results[0]))\n",
    "oom_cont = ContinuousValuedOOM.from_discrete_valued_oom(\n",
    "    oom_disc,\n",
    "    membership_functions=get_gaussian(seed=int(S_3_results_cont[0]))(len(oom_disc.observables))\n",
    ")\n",
    "\n",
    "gen_disc = oom_disc.generate(10000, reduced = False)\n",
    "gen_cont = oom_cont.generate(10000, reduced = False)\n",
    "\n",
    "make_plot(oom_disc, gen_disc, fig, axs[0], \"PCA of discrete OOM p-vectors\")\n",
    "make_plot(oom_cont, gen_cont, fig, axs[1], \"PCA of continuous OOM p-vectors\")\n",
    "plot_mfs(oom_cont, fig, axs[2], \"Membership functions of continuous OOM\", xlim=(-6, 6))"
   ]
  },
  {
   "cell_type": "code",
   "execution_count": 59,
   "id": "d2e1c03f-ed75-4008-b860-d619a8e2a0c4",
   "metadata": {},
   "outputs": [
    {
     "data": {
      "image/png": "[encoded data removed]",
      "text/plain": [
       "<Figure size 600x900 with 5 Axes>"
      ]
     },
     "metadata": {},
     "output_type": "display_data"
    }
   ],
   "source": [
    "fig, axs = plt.subplots(3, 1, figsize=(6, 9), height_ratios=[1, 1, 0.5])\n",
    "axs = axs.flatten()\n",
    "\n",
    "# oom_disc = make_source(dimension = d, alphabet_size = n, density = density, seed = 10)\n",
    "# mfs = get_gaussian(seed = 10)(n)\n",
    "# oom_cont = ContinuousValuedOOM.from_discrete_valued_oom(oom_disc, mfs)\n",
    "oom_disc = make_source(alphabet_size=5, dimension=10, density=0.4, seed=int(S_5_results[0]))\n",
    "oom_cont = ContinuousValuedOOM.from_discrete_valued_oom(\n",
    "    oom_disc,\n",
    "    membership_functions=get_gaussian(seed=int(S_5_results_cont[0]))(len(oom_disc.observables))\n",
    ")\n",
    "\n",
    "gen_disc = oom_disc.generate(10000, reduced = False)\n",
    "gen_cont = oom_cont.generate(10000, reduced = False)\n",
    "\n",
    "make_plot(oom_disc, gen_disc, fig, axs[0], \"PCA of discrete OOM p-vectors\")\n",
    "make_plot(oom_cont, gen_cont, fig, axs[1], \"PCA of continuous OOM p-vectors\")\n",
    "plot_mfs(oom_cont, fig, axs[2], \"Membership functions of continuous OOM\", xlim=(-6, 6))"
   ]
  },
  {
   "cell_type": "code",
   "execution_count": null,
   "id": "7bbc0edb-4eb7-4ae3-941f-f812df1fe270",
   "metadata": {},
   "outputs": [],
   "source": []
  },
  {
   "cell_type": "raw",
   "id": "a23b4c5e-4131-48b5-a440-df0af0c155bf",
   "metadata": {},
   "source": [
    "S_3\n",
    "\n",
    "DVSEED                44.000000\n",
    "spectral_gap           0.230524\n",
    "geo_mean_var           0.023078\n",
    "perc0fs_at_7           0.000000\n",
    "H_q3                   7.496948\n",
    "H_f                    1.160497\n",
    "H_uniform              1.584963\n",
    "_ent_diff              6.336450\n",
    "_norm_spectral_gap     0.853402\n",
    "_norm_geo_mean_var     0.509285\n",
    "_norm_weighted_sum     0.681344\n",
    "Name: 44, dtype: float64\n",
    "\n",
    "MFSEED               85.000000\n",
    "geo_mean_var          0.011369\n",
    "norm_geo_mean_var     1.000000\n",
    "Name: 0, dtype: float64\n",
    "\n",
    "\n",
    "S_5\n",
    "\n",
    "DVSEED                13.000000\n",
    "spectral_gap           0.289279\n",
    "geo_mean_var           0.040515\n",
    "perc0fs_at_7           0.022502\n",
    "H_q3                  20.205908\n",
    "H_f                    1.591012\n",
    "H_uniform              2.321928\n",
    "_ent_diff             18.614896\n",
    "_norm_spectral_gap     0.719011\n",
    "_norm_geo_mean_var     0.975325\n",
    "_norm_weighted_sum     0.847168\n",
    "Name: 13, dtype: float64\n",
    "\n",
    "MFSEED               74.000000\n",
    "geo_mean_var          0.005838\n",
    "norm_geo_mean_var     1.000000\n",
    "Name: 0, dtype: float64"
   ]
  },
  {
   "cell_type": "code",
   "execution_count": 5,
   "id": "ef980bec-f2e6-4b33-afb4-720cf5f38ad4",
   "metadata": {},
   "outputs": [
    {
     "name": "stdout",
     "output_type": "stream",
     "text": [
      "[[ 1.6710206  -0.06474015  0.00426015]\n",
      " [-0.06474015  1.75942529 -0.71472639]\n",
      " [ 0.00426015 -0.71472639  3.83693174]]\n"
     ]
    }
   ],
   "source": [
    "T_inv_3 = get_transfer_matrix(\n",
    "    mfn_dict = dict(zip(range(3), get_gaussian(seed=85)(3))),\n",
    "    save_to_files=False\n",
    ")\n",
    "print(T_inv_3)"
   ]
  },
  {
   "cell_type": "code",
   "execution_count": 6,
   "id": "4293ade0-e0ba-4301-b5e2-842878e0eab7",
   "metadata": {},
   "outputs": [
    {
     "name": "stdout",
     "output_type": "stream",
     "text": [
      "[[0.5993402  0.02356639 0.00372439]\n",
      " [0.02356639 0.6158234  0.11468665]\n",
      " [0.00372439 0.11468665 0.28198409]]\n"
     ]
    }
   ],
   "source": [
    "print(np.linalg.inv(T_inv_3))"
   ]
  },
  {
   "cell_type": "code",
   "execution_count": 11,
   "id": "d0ee8150-db92-40cb-ac9d-7bbbc0a3d2d3",
   "metadata": {},
   "outputs": [
    {
     "data": {
      "text/plain": [
       "<Axes: >"
      ]
     },
     "execution_count": 11,
     "metadata": {},
     "output_type": "execute_result"
    },
    {
     "data": {
      "image/png": "[encoded data removed]",
      "text/plain": [
       "<Figure size 640x480 with 2 Axes>"
      ]
     },
     "metadata": {},
     "output_type": "display_data"
    }
   ],
   "source": [
    "sns.heatmap(np.linalg.inv(T_inv_3), cmap=\"Reds\")"
   ]
  },
  {
   "cell_type": "code",
   "execution_count": 3,
   "id": "31e3fdfb-a771-4d65-865d-ff506efcad48",
   "metadata": {},
   "outputs": [
    {
     "name": "stdout",
     "output_type": "stream",
     "text": [
      "[[ 10.15964116 -11.66878465   7.75987977   0.15346435  -7.43180166]\n",
      " [-11.66878465  31.90884721 -19.23123341  -0.39185163  -0.33974035]\n",
      " [  7.75987977 -19.23123341  13.47899578   0.04430099  -1.46612659]\n",
      " [  0.15346435  -0.39185163   0.04430099   3.25556582   0.0207613 ]\n",
      " [ -7.43180166  -0.33974035  -1.46612659   0.0207613   13.43652882]]\n"
     ]
    }
   ],
   "source": [
    "T_inv_5 = get_transfer_matrix(\n",
    "    mfn_dict = dict(zip(range(5), get_gaussian(seed=74)(5))),\n",
    "    save_to_files=False\n",
    ")\n",
    "print(T_inv_5)"
   ]
  },
  {
   "cell_type": "code",
   "execution_count": 4,
   "id": "917914ee-8086-4f07-9a13-ac344313fe4c",
   "metadata": {},
   "outputs": [
    {
     "name": "stdout",
     "output_type": "stream",
     "text": [
      "[[0.6190967  0.27749984 0.07844673 0.00086672 0.35799995]\n",
      " [0.27749984 0.37482129 0.39737588 0.02531085 0.2062842 ]\n",
      " [0.07844673 0.39737588 0.60890388 0.03508173 0.11982313]\n",
      " [0.00086672 0.02531085 0.03508173 0.30966603 0.00446883]\n",
      " [0.35799995 0.2062842  0.11982313 0.00446883 0.29071874]]\n"
     ]
    }
   ],
   "source": [
    "print(np.linalg.inv(T_inv_5))"
   ]
  },
  {
   "cell_type": "code",
   "execution_count": 12,
   "id": "ecd2f1a1-3e62-4abd-beb4-82f051959c9c",
   "metadata": {},
   "outputs": [
    {
     "data": {
      "text/plain": [
       "<Axes: >"
      ]
     },
     "execution_count": 12,
     "metadata": {},
     "output_type": "execute_result"
    },
    {
     "data": {
      "image/png": "[encoded data removed]",
      "text/plain": [
       "<Figure size 640x480 with 2 Axes>"
      ]
     },
     "metadata": {},
     "output_type": "display_data"
    }
   ],
   "source": [
    "sns.heatmap(np.linalg.inv(T_inv_5), cmap=\"Reds\")"
   ]
  },
  {
   "cell_type": "code",
   "execution_count": null,
   "id": "a064d03f-f025-48f3-b5bf-d68614d4aa83",
   "metadata": {},
   "outputs": [],
   "source": []
  }
 ],
 "metadata": {
  "kernelspec": {
   "display_name": "Python 3 (ipykernel)",
   "language": "python",
   "name": "python3"
  },
  "language_info": {
   "codemirror_mode": {
    "name": "ipython",
    "version": 3
   },
   "file_extension": ".py",
   "mimetype": "text/x-python",
   "name": "python",
   "nbconvert_exporter": "python",
   "pygments_lexer": "ipython3",
   "version": "3.12.1"
  }
 },
 "nbformat": 4,
 "nbformat_minor": 5
}
