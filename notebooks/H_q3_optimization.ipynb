{
 "cells": [
  {
   "cell_type": "code",
   "execution_count": 1,
   "id": "b946dc55-08e8-437a-86ba-ea2f15d232ef",
   "metadata": {},
   "outputs": [],
   "source": [
    "from matplotlib.collections import LineCollection\n",
    "from matplotlib import pyplot as plt\n",
    "from matplotlib import cm, colors\n",
    "from sklearn.manifold import TSNE, MDS\n",
    "from sklearn.decomposition import PCA\n",
    "from hmmlearn import hmm\n",
    "from tqdm import tqdm\n",
    "import seaborn as sns\n",
    "import pandas as pd\n",
    "import numpy as np\n",
    "\n",
    "import os\n",
    "import sys\n",
    "module_path = os.path.abspath(os.path.join('..'))\n",
    "if module_path not in sys.path:\n",
    "    sys.path.append(module_path)\n",
    "\n",
    "np.set_printoptions(linewidth=300, suppress=True)\n",
    "pd.options.mode.chained_assignment = None  # default='warn'\n",
    "\n",
    "from src.experiments.util_experiments import *\n",
    "from src.oom import DiscreteValuedOOM, ContinuousValuedOOM\n",
    "from src.oom.discrete_observable import DiscreteObservable\n",
    "from src.oom.util.few_step_prediction import quantify_distribution, kl_divergence, fix_pvec\n",
    "from src.oom.util.random_sparse import _generate_sparse_full_rank_matrix, _generate_observable_compound\n",
    "from src.oom.util.learning_discrete import estimate_matrices_discrete_fixed"
   ]
  },
  {
   "cell_type": "code",
   "execution_count": 7,
   "id": "1dbee5cc-1cca-4f06-becc-54a1ad3e19c1",
   "metadata": {},
   "outputs": [],
   "source": [
    "def compute_cross_entropy(source_oom, sequence, F_YX, indexing):\n",
    "    total_nll = 0.0\n",
    "    valid_terms = 0\n",
    "    \n",
    "    for t in range(3, len(sequence)):\n",
    "        history, next_symbol = sequence[t-3 : t], sequence[t]\n",
    "        index = \"\".join([obs.uid for obs in history])\n",
    "        col_idx = indexing.index(index)\n",
    "        next_idx = source_oom.observables.index(next_symbol)\n",
    "        \n",
    "        # Get probability from F_YX\n",
    "        prob = F_YX[col_idx, next_idx]\n",
    "        \n",
    "        # Avoid log(0) by adding a tiny epsilon (e.g., 1e-12) if necessary\n",
    "        if prob == 0:\n",
    "            prob = 1e-12  # Handle zero probabilities gracefully\n",
    "        \n",
    "        total_nll += -np.log2(prob)\n",
    "        valid_terms += 1\n",
    "    \n",
    "    # Step 3: Compute average NLL (cross-entropy)\n",
    "    H_fq3 = total_nll / valid_terms\n",
    "    return H_fq3"
   ]
  },
  {
   "cell_type": "code",
   "execution_count": 29,
   "id": "50fb8bd4-ba02-4ad2-a7a4-8567a5af4df1",
   "metadata": {},
   "outputs": [
    {
     "name": "stderr",
     "output_type": "stream",
     "text": [
      "100%|██████████████████████████████████████████████████████████████████████████████████| 50/50 [07:07<00:00,  8.55s/it]\n",
      "100%|██████████████████████████████████████████████████████████████████████████████████| 50/50 [07:06<00:00,  8.53s/it]\n",
      "100%|██████████████████████████████████████████████████████████████████████████████████| 50/50 [07:06<00:00,  8.54s/it]\n"
     ]
    }
   ],
   "source": [
    "n = 3\n",
    "d = 10\n",
    "density = 0.4\n",
    "\n",
    "results_batches = []\n",
    "\n",
    "for _ in range(1):\n",
    "    results = []\n",
    "    \n",
    "    for seed in tqdm(range(50)):\n",
    "        oom_initforseed = DiscreteValuedOOM.from_sparse(alphabet_size=n, dimension=d, density=density, seed=seed)\n",
    "        generation = oom_initforseed.generate(100_000)\n",
    "        \n",
    "        estimate_matrices_3rdorder = estimate_matrices_discrete_fixed(\n",
    "            sequence=generation.sequence,\n",
    "            len_cwords=1,\n",
    "            len_iwords=3,\n",
    "            indexing=True\n",
    "        )\n",
    "        indexing = list(estimate_matrices_3rdorder[-1])\n",
    "        F_YX_3rdorder = estimate_matrices_3rdorder[0][0]\n",
    "        F_YX_3rdorder /= F_YX_3rdorder.sum(axis=0)\n",
    "        \n",
    "        nll_3rdorder = compute_cross_entropy(oom_initforseed, generation.sequence, F_YX_3rdorder, indexing)\n",
    "        result_thisseed = dict(n=n, d=d, sparsity=1-density, uniform=np.log2(n), H_q3=nll_3rdorder, H_f=generation.nll_list[-1])\n",
    "        results.append(result_thisseed)\n",
    "    \n",
    "    res_1 = pd.DataFrame.from_records(results)\n",
    "    res_1['H_q3 - H_f'] = res_1['H_q3'] - res_1['H_f']\n",
    "    res_1[\"seed\"] = res_1.index\n",
    "    results_thisbatch = res_1.sort_values('H_q3 - H_f', ascending=False).reset_index(drop=True).iloc[0]\n",
    "    \n",
    "    results_thisbatch['H_f_long'] = DiscreteValuedOOM.from_sparse(\n",
    "        alphabet_size=n, dimension=d, density=density,\n",
    "        seed=int(results_thisbatch['seed'])\n",
    "    ).generate(10_000_000).nll_list[-1]\n",
    "    results_batches.append(results_thisbatch)"
   ]
  },
  {
   "cell_type": "code",
   "execution_count": 31,
   "id": "650fa30f-a724-4974-ad68-f84e1c1db653",
   "metadata": {},
   "outputs": [
    {
     "data": {
      "text/html": [
       "<div>\n",
       "<style scoped>\n",
       "    .dataframe tbody tr th:only-of-type {\n",
       "        vertical-align: middle;\n",
       "    }\n",
       "\n",
       "    .dataframe tbody tr th {\n",
       "        vertical-align: top;\n",
       "    }\n",
       "\n",
       "    .dataframe thead th {\n",
       "        text-align: right;\n",
       "    }\n",
       "</style>\n",
       "<table border=\"1\" class=\"dataframe\">\n",
       "  <thead>\n",
       "    <tr style=\"text-align: right;\">\n",
       "      <th></th>\n",
       "      <th>n</th>\n",
       "      <th>d</th>\n",
       "      <th>sparsity</th>\n",
       "      <th>uniform</th>\n",
       "      <th>H_q3</th>\n",
       "      <th>H_f</th>\n",
       "      <th>H_q3 - H_f</th>\n",
       "      <th>seed</th>\n",
       "      <th>H_f_long</th>\n",
       "    </tr>\n",
       "  </thead>\n",
       "  <tbody>\n",
       "    <tr>\n",
       "      <th>0</th>\n",
       "      <td>3.0</td>\n",
       "      <td>10.0</td>\n",
       "      <td>0.6</td>\n",
       "      <td>1.584963</td>\n",
       "      <td>10.879890</td>\n",
       "      <td>0.889746</td>\n",
       "      <td>9.990144</td>\n",
       "      <td>25.0</td>\n",
       "      <td>0.884897</td>\n",
       "    </tr>\n",
       "    <tr>\n",
       "      <th>0</th>\n",
       "      <td>3.0</td>\n",
       "      <td>10.0</td>\n",
       "      <td>0.6</td>\n",
       "      <td>1.584963</td>\n",
       "      <td>10.143930</td>\n",
       "      <td>0.886433</td>\n",
       "      <td>9.257497</td>\n",
       "      <td>25.0</td>\n",
       "      <td>0.884754</td>\n",
       "    </tr>\n",
       "    <tr>\n",
       "      <th>0</th>\n",
       "      <td>3.0</td>\n",
       "      <td>10.0</td>\n",
       "      <td>0.6</td>\n",
       "      <td>1.584963</td>\n",
       "      <td>10.240078</td>\n",
       "      <td>0.885592</td>\n",
       "      <td>9.354486</td>\n",
       "      <td>25.0</td>\n",
       "      <td>0.884945</td>\n",
       "    </tr>\n",
       "  </tbody>\n",
       "</table>\n",
       "</div>"
      ],
      "text/plain": [
       "     n     d  sparsity   uniform       H_q3       H_f  H_q3 - H_f  seed  \\\n",
       "0  3.0  10.0       0.6  1.584963  10.879890  0.889746    9.990144  25.0   \n",
       "0  3.0  10.0       0.6  1.584963  10.143930  0.886433    9.257497  25.0   \n",
       "0  3.0  10.0       0.6  1.584963  10.240078  0.885592    9.354486  25.0   \n",
       "\n",
       "   H_f_long  \n",
       "0  0.884897  \n",
       "0  0.884754  \n",
       "0  0.884945  "
      ]
     },
     "execution_count": 31,
     "metadata": {},
     "output_type": "execute_result"
    }
   ],
   "source": [
    "pd.DataFrame(results_batches)"
   ]
  },
  {
   "cell_type": "code",
   "execution_count": 32,
   "id": "75d7dc42-43fc-440f-9dee-e5b84ace5e5e",
   "metadata": {},
   "outputs": [
    {
     "name": "stderr",
     "output_type": "stream",
     "text": [
      "100%|██████████████████████████████████████████████████████████████████████████████████| 50/50 [07:34<00:00,  9.09s/it]\n"
     ]
    },
    {
     "ename": "KeyboardInterrupt",
     "evalue": "",
     "output_type": "error",
     "traceback": [
      "\u001b[1;31m---------------------------------------------------------------------------\u001b[0m",
      "\u001b[1;31mKeyboardInterrupt\u001b[0m                         Traceback (most recent call last)",
      "Cell \u001b[1;32mIn[32], line 36\u001b[0m\n\u001b[0;32m     30\u001b[0m res_1[\u001b[38;5;124m\"\u001b[39m\u001b[38;5;124mseed\u001b[39m\u001b[38;5;124m\"\u001b[39m] \u001b[38;5;241m=\u001b[39m res_1\u001b[38;5;241m.\u001b[39mindex\n\u001b[0;32m     31\u001b[0m results_thisbatch \u001b[38;5;241m=\u001b[39m res_1\u001b[38;5;241m.\u001b[39msort_values(\u001b[38;5;124m'\u001b[39m\u001b[38;5;124mH_q3 - H_f\u001b[39m\u001b[38;5;124m'\u001b[39m, ascending\u001b[38;5;241m=\u001b[39m\u001b[38;5;28;01mFalse\u001b[39;00m)\u001b[38;5;241m.\u001b[39mreset_index(drop\u001b[38;5;241m=\u001b[39m\u001b[38;5;28;01mTrue\u001b[39;00m)\u001b[38;5;241m.\u001b[39miloc[\u001b[38;5;241m0\u001b[39m]\n\u001b[0;32m     33\u001b[0m results_thisbatch[\u001b[38;5;124m'\u001b[39m\u001b[38;5;124mH_f_long\u001b[39m\u001b[38;5;124m'\u001b[39m] \u001b[38;5;241m=\u001b[39m \u001b[43mDiscreteValuedOOM\u001b[49m\u001b[38;5;241;43m.\u001b[39;49m\u001b[43mfrom_sparse\u001b[49m\u001b[43m(\u001b[49m\n\u001b[0;32m     34\u001b[0m \u001b[43m    \u001b[49m\u001b[43malphabet_size\u001b[49m\u001b[38;5;241;43m=\u001b[39;49m\u001b[43mn\u001b[49m\u001b[43m,\u001b[49m\u001b[43m \u001b[49m\u001b[43mdimension\u001b[49m\u001b[38;5;241;43m=\u001b[39;49m\u001b[43md\u001b[49m\u001b[43m,\u001b[49m\u001b[43m \u001b[49m\u001b[43mdensity\u001b[49m\u001b[38;5;241;43m=\u001b[39;49m\u001b[43mdensity\u001b[49m\u001b[43m,\u001b[49m\n\u001b[0;32m     35\u001b[0m \u001b[43m    \u001b[49m\u001b[43mseed\u001b[49m\u001b[38;5;241;43m=\u001b[39;49m\u001b[38;5;28;43mint\u001b[39;49m\u001b[43m(\u001b[49m\u001b[43mresults_thisbatch\u001b[49m\u001b[43m[\u001b[49m\u001b[38;5;124;43m'\u001b[39;49m\u001b[38;5;124;43mseed\u001b[39;49m\u001b[38;5;124;43m'\u001b[39;49m\u001b[43m]\u001b[49m\u001b[43m)\u001b[49m\n\u001b[1;32m---> 36\u001b[0m \u001b[43m\u001b[49m\u001b[43m)\u001b[49m\u001b[38;5;241;43m.\u001b[39;49m\u001b[43mgenerate\u001b[49m\u001b[43m(\u001b[49m\u001b[38;5;241;43m10_000_000\u001b[39;49m\u001b[43m)\u001b[49m\u001b[38;5;241m.\u001b[39mnll_list[\u001b[38;5;241m-\u001b[39m\u001b[38;5;241m1\u001b[39m]\n\u001b[0;32m     37\u001b[0m results_batches\u001b[38;5;241m.\u001b[39mappend(results_thisbatch)\n",
      "File \u001b[1;32mE:\\continuous_ooms\\src\\oom\\oom.py:171\u001b[0m, in \u001b[0;36mObservableOperatorModel.generate\u001b[1;34m(self, length, reduced)\u001b[0m\n\u001b[0;32m    164\u001b[0m traversal_obj \u001b[38;5;241m=\u001b[39m \u001b[38;5;28mself\u001b[39m\u001b[38;5;241m.\u001b[39mget_traversal_state(\n\u001b[0;32m    165\u001b[0m \ttvmode \u001b[38;5;241m=\u001b[39m TraversalMode\u001b[38;5;241m.\u001b[39mGENERATE,\n\u001b[0;32m    166\u001b[0m \tstop \u001b[38;5;241m=\u001b[39m length,\n\u001b[0;32m    167\u001b[0m \treduced \u001b[38;5;241m=\u001b[39m reduced\n\u001b[0;32m    168\u001b[0m )\n\u001b[0;32m    169\u001b[0m traversal_obj\u001b[38;5;241m.\u001b[39msequence \u001b[38;5;241m=\u001b[39m []\n\u001b[1;32m--> 171\u001b[0m traversal_obj \u001b[38;5;241m=\u001b[39m \u001b[38;5;28;43mself\u001b[39;49m\u001b[38;5;241;43m.\u001b[39;49m\u001b[43m_sequence_traversal\u001b[49m\u001b[43m(\u001b[49m\u001b[43mtraversal_obj\u001b[49m\u001b[43m)\u001b[49m\n\u001b[0;32m    173\u001b[0m \u001b[38;5;28;01mreturn\u001b[39;00m traversal_obj\n",
      "File \u001b[1;32mE:\\continuous_ooms\\src\\oom\\oom.py:219\u001b[0m, in \u001b[0;36mObservableOperatorModel._sequence_traversal\u001b[1;34m(self, traversal_obj)\u001b[0m\n\u001b[0;32m    216\u001b[0m state \u001b[38;5;241m=\u001b[39m \u001b[38;5;28mself\u001b[39m\u001b[38;5;241m.\u001b[39mtv\u001b[38;5;241m.\u001b[39mstate_list[\u001b[38;5;241m-\u001b[39m\u001b[38;5;241m1\u001b[39m]\n\u001b[0;32m    218\u001b[0m \u001b[38;5;66;03m# Get the probability vector representing the distribution at this state\u001b[39;00m\n\u001b[1;32m--> 219\u001b[0m p_vec \u001b[38;5;241m=\u001b[39m \u001b[38;5;28;43mself\u001b[39;49m\u001b[38;5;241;43m.\u001b[39;49m\u001b[43mstep_get_distribution\u001b[49m\u001b[43m(\u001b[49m\u001b[43mstate\u001b[49m\u001b[43m)\u001b[49m\n\u001b[0;32m    221\u001b[0m delta \u001b[38;5;241m=\u001b[39m np\u001b[38;5;241m.\u001b[39msum(ia_margin \u001b[38;5;241m-\u001b[39m p_vec, where \u001b[38;5;241m=\u001b[39m p_vec \u001b[38;5;241m<\u001b[39m\u001b[38;5;241m=\u001b[39m \u001b[38;5;241m0\u001b[39m)\n\u001b[0;32m    222\u001b[0m p_plus \u001b[38;5;241m=\u001b[39m np\u001b[38;5;241m.\u001b[39msum(p_vec, where \u001b[38;5;241m=\u001b[39m p_vec \u001b[38;5;241m>\u001b[39m \u001b[38;5;241m0\u001b[39m)\n",
      "File \u001b[1;32mE:\\continuous_ooms\\src\\oom\\oom.py:308\u001b[0m, in \u001b[0;36mObservableOperatorModel.step_get_distribution\u001b[1;34m(self, state)\u001b[0m\n\u001b[0;32m    306\u001b[0m \u001b[38;5;66;03m# Get probability vector\u001b[39;00m\n\u001b[0;32m    307\u001b[0m p_vec \u001b[38;5;241m=\u001b[39m \u001b[38;5;28mself\u001b[39m\u001b[38;5;241m.\u001b[39mlf_on_operators \u001b[38;5;241m*\u001b[39m state\n\u001b[1;32m--> 308\u001b[0m p_vec \u001b[38;5;241m=\u001b[39m \u001b[43mnp\u001b[49m\u001b[38;5;241;43m.\u001b[39;49m\u001b[43marray\u001b[49m\u001b[43m(\u001b[49m\u001b[43mp_vec\u001b[49m\u001b[43m)\u001b[49m\u001b[38;5;241m.\u001b[39mflatten()\n\u001b[0;32m    310\u001b[0m \u001b[38;5;28;01mreturn\u001b[39;00m p_vec\n",
      "\u001b[1;31mKeyboardInterrupt\u001b[0m: "
     ]
    }
   ],
   "source": [
    "n = 5\n",
    "d = 10\n",
    "density = 0.4\n",
    "\n",
    "results_batches = []\n",
    "\n",
    "for _ in range(1):\n",
    "    results = []\n",
    "    \n",
    "    for seed in tqdm(range(50)):\n",
    "        oom_initforseed = DiscreteValuedOOM.from_sparse(alphabet_size=n, dimension=d, density=density, seed=seed)\n",
    "        generation = oom_initforseed.generate(100_000)\n",
    "        \n",
    "        estimate_matrices_3rdorder = estimate_matrices_discrete_fixed(\n",
    "            sequence=generation.sequence,\n",
    "            len_cwords=1,\n",
    "            len_iwords=3,\n",
    "            indexing=True\n",
    "        )\n",
    "        indexing = list(estimate_matrices_3rdorder[-1])\n",
    "        F_YX_3rdorder = estimate_matrices_3rdorder[0][0]\n",
    "        F_YX_3rdorder /= F_YX_3rdorder.sum(axis=0)\n",
    "        \n",
    "        nll_3rdorder = compute_cross_entropy(oom_initforseed, generation.sequence, F_YX_3rdorder, indexing)\n",
    "        result_thisseed = dict(n=n, d=d, sparsity=1-density, uniform=np.log2(n), H_q3=nll_3rdorder, H_f=generation.nll_list[-1])\n",
    "        results.append(result_thisseed)\n",
    "    \n",
    "    res_1 = pd.DataFrame.from_records(results)\n",
    "    res_1['H_q3 - H_f'] = res_1['H_q3'] - res_1['H_f']\n",
    "    res_1[\"seed\"] = res_1.index\n",
    "    results_thisbatch = res_1.sort_values('H_q3 - H_f', ascending=False).reset_index(drop=True).iloc[0]\n",
    "    \n",
    "    results_thisbatch['H_f_long'] = DiscreteValuedOOM.from_sparse(\n",
    "        alphabet_size=n, dimension=d, density=density,\n",
    "        seed=int(results_thisbatch['seed'])\n",
    "    ).generate(10_000_000).nll_list[-1]\n",
    "    results_batches.append(results_thisbatch)"
   ]
  },
  {
   "cell_type": "code",
   "execution_count": null,
   "id": "d990d377-262a-412d-9228-86dcb414a8b5",
   "metadata": {},
   "outputs": [],
   "source": [
    "results_batches"
   ]
  },
  {
   "cell_type": "code",
   "execution_count": 33,
   "id": "daca63dc-1428-4ea1-a4a2-74c1bbfa6ee9",
   "metadata": {},
   "outputs": [
    {
     "data": {
      "text/plain": [
       "n              5.000000\n",
       "d             10.000000\n",
       "sparsity       0.600000\n",
       "uniform        2.321928\n",
       "H_q3          16.137141\n",
       "H_f            1.538206\n",
       "H_q3 - H_f    14.598935\n",
       "seed          46.000000\n",
       "Name: 0, dtype: float64"
      ]
     },
     "execution_count": 33,
     "metadata": {},
     "output_type": "execute_result"
    }
   ],
   "source": [
    "results_thisbatch"
   ]
  },
  {
   "cell_type": "code",
   "execution_count": null,
   "id": "d596afcf-93e3-405f-83ae-51f71bcf1dfb",
   "metadata": {},
   "outputs": [],
   "source": []
  }
 ],
 "metadata": {
  "kernelspec": {
   "display_name": "Python 3 (ipykernel)",
   "language": "python",
   "name": "python3"
  },
  "language_info": {
   "codemirror_mode": {
    "name": "ipython",
    "version": 3
   },
   "file_extension": ".py",
   "mimetype": "text/x-python",
   "name": "python",
   "nbconvert_exporter": "python",
   "pygments_lexer": "ipython3",
   "version": "3.12.1"
  }
 },
 "nbformat": 4,
 "nbformat_minor": 5
}
