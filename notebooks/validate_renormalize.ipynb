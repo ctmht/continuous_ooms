{
 "cells": [
  {
   "cell_type": "code",
   "execution_count": 1,
   "id": "5fbd5abd-e19f-45af-918e-04a83f9bdbbc",
   "metadata": {},
   "outputs": [],
   "source": [
    "import os\n",
    "import sys\n",
    "module_path = os.path.abspath(os.path.join('..'))\n",
    "if module_path not in sys.path:\n",
    "    sys.path.append(module_path)\n",
    "\n",
    "from src import oom\n",
    "from src.oom import DiscreteValuedOOM\n",
    "from src.oom.observable import ObsSequence\n",
    "\n",
    "sys.modules['oom'] = oom"
   ]
  },
  {
   "cell_type": "code",
   "execution_count": 2,
   "id": "d00d135f-1380-470d-ad7a-77c0254840da",
   "metadata": {},
   "outputs": [],
   "source": [
    "import pickle\n",
    "import os\n",
    "\n",
    "import numpy as np"
   ]
  },
  {
   "cell_type": "code",
   "execution_count": 3,
   "id": "9d5dd836-37b5-46b1-9401-638159c2e809",
   "metadata": {},
   "outputs": [],
   "source": [
    "with open(os.path.abspath('../data/learned_5_50.pickle'), 'rb') as picklefile:\n",
    "    myoom = pickle.load(picklefile)"
   ]
  },
  {
   "cell_type": "markdown",
   "id": "02714b6f-8868-4f59-81fc-170214b0d059",
   "metadata": {},
   "source": [
    "## Generation"
   ]
  },
  {
   "cell_type": "code",
   "execution_count": 4,
   "id": "c5d4956a-711f-4907-b552-0d9b5e5716bc",
   "metadata": {},
   "outputs": [
    {
     "name": "stdout",
     "output_type": "stream",
     "text": [
      "Values do not sum to 1.\n"
     ]
    }
   ],
   "source": [
    "try:\n",
    "    gen = myoom.generate(1000)\n",
    "    seq = ObsSequence(gen[1])\n",
    "    print(seq[:10])\n",
    "except ValueError:\n",
    "    print(\"Values do not sum to 1.\")"
   ]
  },
  {
   "cell_type": "markdown",
   "id": "98ebb61a-fd43-4f44-8fff-fd25e09fb7b1",
   "metadata": {},
   "source": [
    "## Validating Observable Operator Models\n",
    "\n",
    "By \"validating\", I mean both checking the conditions a Stochastic System (SS) needs to fulfill in order to be an OOM of a valid stochastic process, as defined in [1]. By taking the system function definition and writing out its explicit definition in terms of the SS tuple's linear algebraic items, I propose two independent and sequential normalization steps, for the starting state and the operator matrices. The terms of the normalization are not necessarily these, and it is still debatable which term should not be affected by a normalization procedure.\n",
    "\n",
    "### 1. Start state: <span style=\"color: #DDBBFF\"> $\\displaystyle f(\\varepsilon) = 1 \\Longleftrightarrow \\sigma \\omega_\\varepsilon = 1 $ </span>\n",
    "\n",
    "We can normalize the starting state vector $\\displaystyle \\omega_\\varepsilon $ to achieve this result by $\\displaystyle \\omega_\\varepsilon \\leftarrow \\omega_\\varepsilon \\frac{1}{\\sigma \\omega_\\varepsilon}$.\n",
    "\n",
    "##### a. Check actual values"
   ]
  },
  {
   "cell_type": "code",
   "execution_count": 5,
   "id": "b4648c31-78ff-4f1e-8170-ae02e6d6bf79",
   "metadata": {},
   "outputs": [
    {
     "name": "stdout",
     "output_type": "stream",
     "text": [
      "[[0.99998611]]\n"
     ]
    }
   ],
   "source": [
    "print(myoom.lin_func * myoom.start_state)"
   ]
  },
  {
   "cell_type": "markdown",
   "id": "199d546d-b422-46f0-bcbb-fc47f360f0f8",
   "metadata": {},
   "source": [
    "##### b. Apply normalization"
   ]
  },
  {
   "cell_type": "code",
   "execution_count": 6,
   "id": "c520689c-6abe-49f7-ba4f-40d48e18a824",
   "metadata": {},
   "outputs": [],
   "source": [
    "err = myoom.lin_func * myoom.start_state\n",
    "myoom.start_state /= err"
   ]
  },
  {
   "cell_type": "markdown",
   "id": "6069b51f-f1cb-4bfe-8557-5136f332a345",
   "metadata": {},
   "source": [
    "##### c. Check updated values"
   ]
  },
  {
   "cell_type": "code",
   "execution_count": 7,
   "id": "a8263563-d7b9-4c9d-af86-9e20b286f8e7",
   "metadata": {},
   "outputs": [
    {
     "name": "stdout",
     "output_type": "stream",
     "text": [
      "[[1.]]\n"
     ]
    }
   ],
   "source": [
    "print(myoom.lin_func * myoom.start_state)"
   ]
  },
  {
   "cell_type": "markdown",
   "id": "b9763495-6dd3-4a28-b12d-05099aade7f6",
   "metadata": {},
   "source": [
    "### 2. Future distribution: <span style=\"color: #DDBBFF\"> $\\displaystyle \\forall\\; \\bar{x} \\in \\Sigma^*,\\; f(\\bar{x}) = \\sum_{x \\in \\Sigma} f(\\bar{x} x) \\Longleftrightarrow \\sigma \\tau_\\bar{x} \\omega_\\varepsilon = \\sigma \\left(\\sum_{x \\in \\Sigma} \\tau_x \\right) \\tau_\\bar{x} \\omega_\\varepsilon $ </span>\n",
    "\n",
    "Since we want the previous relation to hold with $\\displaystyle \\tau_\\bar{x} $ for all $\\displaystyle \\bar{x} \\in \\Sigma^* $, this amounts to having $\\displaystyle \\sigma = \\sigma \\left(\\sum_{x \\in \\Sigma} \\tau_x \\right) $.\n",
    "\n",
    "We can normalize the operator matrices $\\displaystyle \\tau_x $ to achieve this result by $\\displaystyle [\\tau_x]_j \\leftarrow [\\tau_x]_j \\frac{[\\sigma]_j}{\\sigma [\\mu]_j}$, where $\\displaystyle \\mu \\equiv \\sum_{x \\in \\Sigma} \\tau_x $ and the notation $\\displaystyle [M]_j$ denotes the $j$-th column of the matrix $M$.\n",
    "\n",
    "##### a. Check actual values"
   ]
  },
  {
   "cell_type": "code",
   "execution_count": 8,
   "id": "00a25f3b-0548-4345-9b36-d728aed0a2ae",
   "metadata": {},
   "outputs": [
    {
     "name": "stdout",
     "output_type": "stream",
     "text": [
      "[[ 1.99474191  0.1339109  -0.02175702  0.04968667  0.02613801]]\n",
      "[[ 1.99482254  0.14450773 -0.00714955  0.01210436  0.01103387]]\n"
     ]
    }
   ],
   "source": [
    "print(myoom.lin_func * sum([op.mat for op in myoom.operators]))\n",
    "print(myoom.lin_func)"
   ]
  },
  {
   "cell_type": "markdown",
   "id": "72efb8b3-d0b8-47b8-b2d5-ac7a1c15b517",
   "metadata": {},
   "source": [
    "##### b. Apply normalization"
   ]
  },
  {
   "cell_type": "code",
   "execution_count": 9,
   "id": "66a24dea-a5b8-4dab-81e8-dc355d0cf6cc",
   "metadata": {},
   "outputs": [],
   "source": [
    "mu = sum([op.mat for op in myoom.operators])\n",
    "\n",
    "for op in myoom.operators:\n",
    "    lin_func_err = myoom.lin_func * mu\n",
    "    \n",
    "    for col in range(op.mat.shape[1]):\n",
    "        op.mat[:, col] = op.mat[:, col] * myoom.lin_func[0, col] / lin_func_err[0, col]"
   ]
  },
  {
   "cell_type": "markdown",
   "id": "32c96fb1-3ed6-4dcb-8d49-96ea6c559838",
   "metadata": {},
   "source": [
    "##### c. Check updated values"
   ]
  },
  {
   "cell_type": "code",
   "execution_count": 10,
   "id": "1d3b7fb2-109a-40ce-91cd-940517d72c5b",
   "metadata": {},
   "outputs": [
    {
     "name": "stdout",
     "output_type": "stream",
     "text": [
      "[[ 1.99482254  0.14450773 -0.00714955  0.01210436  0.01103387]]\n",
      "[[ 1.99482254  0.14450773 -0.00714955  0.01210436  0.01103387]]\n"
     ]
    }
   ],
   "source": [
    "print(myoom.lin_func * sum([op.mat for op in myoom.operators]))\n",
    "print(myoom.lin_func)"
   ]
  },
  {
   "cell_type": "markdown",
   "id": "2db257f6-b452-47fa-969b-26580b6d6199",
   "metadata": {},
   "source": [
    "# Generation (again)"
   ]
  },
  {
   "cell_type": "code",
   "execution_count": 11,
   "id": "df190149-dec7-4e2e-aad0-923ff18104ee",
   "metadata": {},
   "outputs": [
    {
     "name": "stdout",
     "output_type": "stream",
     "text": [
      "['Oe', 'Oa', 'Oa', 'Oc', 'Ob', 'Ob', 'Oe', 'Ob', 'Od', 'Oa']\n"
     ]
    }
   ],
   "source": [
    "try:\n",
    "    gen = myoom.generate(1000)\n",
    "    seq = ObsSequence(gen[1])\n",
    "    print(seq[:10])\n",
    "except ValueError:\n",
    "    print(\"Values do not sum to 1.\")"
   ]
  },
  {
   "cell_type": "code",
   "execution_count": null,
   "id": "801c0a2e-8276-4af0-93a4-bef38c675713",
   "metadata": {},
   "outputs": [],
   "source": []
  }
 ],
 "metadata": {
  "kernelspec": {
   "display_name": "Python 3 (ipykernel)",
   "language": "python",
   "name": "python3"
  },
  "language_info": {
   "codemirror_mode": {
    "name": "ipython",
    "version": 3
   },
   "file_extension": ".py",
   "mimetype": "text/x-python",
   "name": "python",
   "nbconvert_exporter": "python",
   "pygments_lexer": "ipython3",
   "version": "3.12.1"
  }
 },
 "nbformat": 4,
 "nbformat_minor": 5
}
