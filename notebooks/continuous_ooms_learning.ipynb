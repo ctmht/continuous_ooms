{
 "cells": [
  {
   "cell_type": "code",
   "execution_count": 1,
   "id": "e87d6df5-e877-430b-b59c-8ff14465dd7c",
   "metadata": {},
   "outputs": [],
   "source": [
    "# Loading all relevant modules\n",
    "\n",
    "import os\n",
    "import sys\n",
    "module_path = os.path.abspath(os.path.join('..'))\n",
    "if module_path not in sys.path:\n",
    "    sys.path.append(module_path)\n",
    "\n",
    "from src import oom\n",
    "from src.oom.DiscreteValuedOOM import DiscreteValuedOOM, get_matrices\n",
    "from src.oom.ContinuousValuedOOM import ContinuousValuedOOM\n",
    "from src.oom.observable import *\n",
    "from src.oom.operator import *\n",
    "from src.oom.util.spectral import get_CQ_by_svd\n",
    "from src.main import experiment_dimension\n",
    "\n",
    "sys.modules['oom'] = oom\n",
    "\n",
    "import itertools\n",
    "from collections import Counter\n",
    "\n",
    "import numpy as np\n",
    "import pandas as pd\n",
    "import matplotlib as mpl\n",
    "from matplotlib import pyplot as plt\n",
    "\n",
    "import scipy as sp\n",
    "\n",
    "from IPython import display\n",
    "# hdisplay = display.display(\"\", display_id=True)"
   ]
  },
  {
   "cell_type": "code",
   "execution_count": 2,
   "id": "4fc79ca4-9718-4e7f-8539-6416533d2f00",
   "metadata": {},
   "outputs": [],
   "source": [
    "# Creating some models\n",
    "\n",
    "n = 3\n",
    "d = 8\n",
    "sparsity = 0.9\n",
    "\n",
    "oom_disc = DiscreteValuedOOM.from_sparse(\n",
    "    alphabet_size = n,\n",
    "    dimension = d,\n",
    "    density = 1 - sparsity,\n",
    "    deterministic_functional = False,\n",
    "    stationary_state = False,\n",
    "    seed = None\n",
    ")\n",
    "\n",
    "membership_fns = []\n",
    "for idx in range(n):\n",
    "    pdf = sp.stats.uniform(loc = idx / n, scale = 1 / (2 * n))\n",
    "    membership_fns.append(pdf)\n",
    "\n",
    "oom_cont = ContinuousValuedOOM(\n",
    "    dim = oom_disc.dim,\n",
    "    linear_functional = oom_disc.lin_func,\n",
    "    operators = oom_disc.operators,\n",
    "    start_state = oom_disc.start_state,\n",
    "    membership_functions = membership_fns,\n",
    ")"
   ]
  },
  {
   "cell_type": "code",
   "execution_count": 3,
   "id": "e1d74cac-3d91-473b-80d0-3e5dda3baee2",
   "metadata": {},
   "outputs": [],
   "source": [
    "# generating a sequence\n",
    "generation_cont = oom_cont.generate(100000)"
   ]
  },
  {
   "cell_type": "code",
   "execution_count": 4,
   "id": "f960140b-7296-4893-8e0a-ada385cd14cd",
   "metadata": {},
   "outputs": [
    {
     "data": {
      "text/plain": [
       "dict_keys(['time_step', 'time_stop', 'state_list', 'nll_list', 'p_vecs', 'mode', 'sequence', 'sequence_cont', 'p_vecs_cont'])"
      ]
     },
     "execution_count": 4,
     "metadata": {},
     "output_type": "execute_result"
    }
   ],
   "source": [
    "generation_cont.keys()"
   ]
  },
  {
   "cell_type": "code",
   "execution_count": 5,
   "id": "6b78cf7f-7b29-454b-be30-0160ada955d5",
   "metadata": {},
   "outputs": [
    {
     "data": {
      "image/png": "[encoded data removed]",
      "text/plain": [
       "<Figure size 640x480 with 1 Axes>"
      ]
     },
     "metadata": {},
     "output_type": "display_data"
    }
   ],
   "source": [
    "plt.hist(generation_cont.sequence_cont, bins=100)\n",
    "plt.show()"
   ]
  },
  {
   "cell_type": "code",
   "execution_count": 6,
   "id": "3076f94c-766b-4cc9-8e6d-33e936fbae4e",
   "metadata": {},
   "outputs": [
    {
     "data": {
      "text/plain": [
       "[Oa, Ob, Oc]"
      ]
     },
     "execution_count": 6,
     "metadata": {},
     "output_type": "execute_result"
    }
   ],
   "source": [
    "alphabet = oom_cont.observables\n",
    "alphabet"
   ]
  },
  {
   "cell_type": "code",
   "execution_count": 7,
   "id": "4d2f5f3b-78b9-4dc3-af18-7f9a0f464d30",
   "metadata": {},
   "outputs": [
    {
     "data": {
      "text/plain": [
       "[<scipy.stats._distn_infrastructure.rv_continuous_frozen at 0x2bc72072600>,\n",
       " <scipy.stats._distn_infrastructure.rv_continuous_frozen at 0x2bc511a4a40>,\n",
       " <scipy.stats._distn_infrastructure.rv_continuous_frozen at 0x2bc71ee0770>]"
      ]
     },
     "execution_count": 7,
     "metadata": {},
     "output_type": "execute_result"
    }
   ],
   "source": [
    "mfs = oom_cont.membership_fns\n",
    "mfs"
   ]
  },
  {
   "cell_type": "code",
   "execution_count": 8,
   "id": "213d4126-9e5f-4dbc-b876-8511716eba74",
   "metadata": {},
   "outputs": [
    {
     "name": "stdout",
     "output_type": "stream",
     "text": [
      "[0.010842052858462107, 0.04184578744526738, 0.10672856221460877, 0.7179044205242235, 0.707103603248362, 0.8020457725867485, 0.6723872802820914, 0.07715774238996079, 0.3638549416919345]\n"
     ]
    }
   ],
   "source": [
    "print(generation_cont.sequence_cont[:9])"
   ]
  },
  {
   "cell_type": "code",
   "execution_count": 9,
   "id": "e0fcc480-55a5-49c5-970f-a7e17d4b7fd2",
   "metadata": {},
   "outputs": [],
   "source": [
    "def estimate(cv_sequence, zbar, memberships):\n",
    "    \"\"\"\n",
    "    Computes the system function estimate for a given continuous-valued sequence and known\n",
    "    membership functions, using the Ergodic Theorem for Strictly Stationary Processes\n",
    "\n",
    "    Args:\n",
    "        cv_sequence: the continuous-valued sequence\n",
    "        zbar: a word formed of finitely many objects in the alphabet of a symbolic process\n",
    "        memberships: dictionary linking each alphabet entry to its known membership function\n",
    "    \"\"\"\n",
    "    est = 0\n",
    "    \n",
    "    for start in range(len(cv_sequence) - len(zbar) + 1):\n",
    "        est_here = 1\n",
    "\n",
    "        # print(f\"est_here: {est_here} \", end='')\n",
    "        \n",
    "        for idx in range(0, len(zbar)):\n",
    "            mf = memberships[zbar[idx]]\n",
    "            x = cv_sequence[start + idx]\n",
    "            est_here *= mf.pdf(x)\n",
    "            # print(f\"{est_here} \", end='')\n",
    "\n",
    "        est += est_here / (len(cv_sequence) - len(zbar) + 1)\n",
    "\n",
    "    return est"
   ]
  },
  {
   "cell_type": "code",
   "execution_count": 10,
   "id": "45e1a49c-17ec-4b40-90dd-55c1c75081d2",
   "metadata": {},
   "outputs": [
    {
     "data": {
      "text/plain": [
       "{Oa: <scipy.stats._distn_infrastructure.rv_continuous_frozen at 0x2bc72072600>,\n",
       " Ob: <scipy.stats._distn_infrastructure.rv_continuous_frozen at 0x2bc511a4a40>,\n",
       " Oc: <scipy.stats._distn_infrastructure.rv_continuous_frozen at 0x2bc71ee0770>}"
      ]
     },
     "execution_count": 10,
     "metadata": {},
     "output_type": "execute_result"
    }
   ],
   "source": [
    "mfn_dict = dict(zip(oom_cont.observables, oom_cont.membership_fns))\n",
    "mfn_dict"
   ]
  },
  {
   "cell_type": "code",
   "execution_count": null,
   "id": "921cb9c9-d223-427e-8d6a-89a8fc72a542",
   "metadata": {},
   "outputs": [],
   "source": [
    "import itertools # permutations\n",
    "\n",
    "for perm in itertools.product(oom_cont.observables, repeat = 3):\n",
    "    print(perm, ':', estimate(generation_cont.sequence_cont, perm, mfn_dict))"
   ]
  },
  {
   "cell_type": "code",
   "execution_count": 11,
   "id": "4aea5f89-8857-4833-a7ec-2dc613c2ed1e",
   "metadata": {
    "scrolled": true
   },
   "outputs": [
    {
     "name": "stdout",
     "output_type": "stream",
     "text": [
      "3.0300601202 (Oa, Oa) (Oa,)\n",
      "1.299899699097292  (Oa, Oa) (Oa,) (Oa,)\n",
      "12.99899699097292  (Oa, Oa) (Ob,) (Oa,)\n",
      "15.598796389167504  (Oa, Oa) (Oc,) (Oa,)\n",
      "6.2765531062 (Oa, Oa) (Ob,)\n",
      "7.799398194583752  (Oa, Oa) (Oa,) (Ob,)\n",
      "11.699097291875628  (Oa, Oa) (Ob,) (Ob,)\n",
      "9.099297893681044  (Oa, Oa) (Oc,) (Ob,)\n",
      "5.6272545090 (Oa, Oa) (Oc,)\n",
      "9.099297893681044  (Oa, Oa) (Oa,) (Oc,)\n",
      "11.699097291875628  (Oa, Oa) (Ob,) (Oc,)\n",
      "9.099297893681044  (Oa, Oa) (Oc,) (Oc,)\n",
      "7.1422845691 (Oa, Ob) (Oa,)\n",
      "9.099297893681044  (Oa, Ob) (Oa,) (Oa,)\n",
      "6.49949849548646  (Oa, Ob) (Ob,) (Oa,)\n",
      "5.199598796389168  (Oa, Ob) (Oc,) (Oa,)\n",
      "8.2244488978 (Oa, Ob) (Ob,)\n",
      "19.49849548645938  (Oa, Ob) (Oa,) (Ob,)\n",
      "20.79839518555667  (Oa, Ob) (Ob,) (Ob,)\n",
      "14.298896690070212  (Oa, Ob) (Oc,) (Ob,)\n",
      "7.3587174349 (Oa, Ob) (Oc,)\n",
      "14.298896690070212  (Oa, Ob) (Oa,) (Oc,)\n",
      "22.098294884653964  (Oa, Ob) (Ob,) (Oc,)\n",
      "24.698094282848547  (Oa, Ob) (Oc,) (Oc,)\n",
      "8.6573146293 (Oa, Oc) (Oa,)\n",
      "22.098294884653964  (Oa, Oc) (Oa,) (Oa,)\n",
      "11.699097291875628  (Oa, Oc) (Ob,) (Oa,)\n",
      "7.799398194583752  (Oa, Oc) (Oc,) (Oa,)\n",
      "6.7094188377 (Oa, Oc) (Ob,)\n",
      "15.598796389167504  (Oa, Oc) (Oa,) (Ob,)\n",
      "19.49849548645938  (Oa, Oc) (Ob,) (Ob,)\n",
      "12.99899699097292  (Oa, Oc) (Oc,) (Ob,)\n",
      "7.5751503006 (Oa, Oc) (Oc,)\n",
      "14.298896690070212  (Oa, Oc) (Oa,) (Oc,)\n",
      "9.099297893681044  (Oa, Oc) (Ob,) (Oc,)\n",
      "24.698094282848547  (Oa, Oc) (Oc,) (Oc,)\n",
      "4.3286573146 (Ob, Oa) (Oa,)\n",
      "2.599799398194584  (Ob, Oa) (Oa,) (Oa,)\n",
      "18.198595787362088  (Ob, Oa) (Ob,) (Oa,)\n",
      "23.398194583751255  (Ob, Oa) (Oc,) (Oa,)\n",
      "10.3887775551 (Ob, Oa) (Ob,)\n",
      "11.699097291875628  (Ob, Oa) (Oa,) (Ob,)\n",
      "24.698094282848547  (Ob, Oa) (Ob,) (Ob,)\n",
      "18.198595787362088  (Ob, Oa) (Oc,) (Ob,)\n",
      "9.9559118236 (Ob, Oa) (Oc,)\n",
      "11.699097291875628  (Ob, Oa) (Oa,) (Oc,)\n",
      "19.49849548645938  (Ob, Oa) (Ob,) (Oc,)\n",
      "18.198595787362088  (Ob, Oa) (Oc,) (Oc,)\n",
      "8.0080160321 (Ob, Ob) (Oa,)\n",
      "10.399197592778336  (Ob, Ob) (Oa,) (Oa,)\n",
      "22.098294884653964  (Ob, Ob) (Ob,) (Oa,)\n",
      "2.599799398194584  (Ob, Ob) (Oc,) (Oa,)\n",
      "8.4408817635 (Ob, Ob) (Ob,)\n",
      "20.79839518555667  (Ob, Ob) (Oa,) (Ob,)\n",
      "9.099297893681044  (Ob, Ob) (Ob,) (Ob,)\n",
      "24.698094282848547  (Ob, Ob) (Oc,) (Ob,)\n",
      "11.2545090180 (Ob, Ob) (Oc,)\n",
      "16.898696088264796  (Ob, Ob) (Oa,) (Oc,)\n",
      "19.49849548645938  (Ob, Ob) (Ob,) (Oc,)\n",
      "40.296890672016076  (Ob, Ob) (Oc,) (Oc,)\n",
      "4.3286573146 (Ob, Oc) (Oa,)\n",
      "10.399197592778336  (Ob, Oc) (Oa,) (Oa,)\n",
      "18.198595787362088  (Ob, Oc) (Ob,) (Oa,)\n",
      "23.398194583751255  (Ob, Oc) (Oc,) (Oa,)\n",
      "7.1422845691 (Ob, Oc) (Ob,)\n",
      "6.49949849548646  (Ob, Oc) (Oa,) (Ob,)\n",
      "19.49849548645938  (Ob, Oc) (Ob,) (Ob,)\n",
      "35.097291875626894  (Ob, Oc) (Oc,) (Ob,)\n",
      "12.5531062124 (Ob, Oc) (Oc,)\n",
      "9.099297893681044  (Ob, Oc) (Oa,) (Oc,)\n",
      "5.199598796389168  (Ob, Oc) (Ob,) (Oc,)\n",
      "16.898696088264796  (Ob, Oc) (Oc,) (Oc,)\n",
      "7.3587174349 (Oc, Oa) (Oa,)\n",
      "12.99899699097292  (Oc, Oa) (Oa,) (Oa,)\n",
      "11.699097291875628  (Oc, Oa) (Ob,) (Oa,)\n",
      "12.99899699097292  (Oc, Oa) (Oc,) (Oa,)\n",
      "6.2765531062 (Oc, Oa) (Ob,)\n",
      "18.198595787362088  (Oc, Oa) (Oa,) (Ob,)\n",
      "12.99899699097292  (Oc, Oa) (Ob,) (Ob,)\n",
      "12.99899699097292  (Oc, Oa) (Oc,) (Ob,)\n",
      "7.3587174349 (Oc, Oa) (Oc,)\n",
      "12.99899699097292  (Oc, Oa) (Oa,) (Oc,)\n",
      "12.99899699097292  (Oc, Oa) (Ob,) (Oc,)\n",
      "18.198595787362088  (Oc, Oa) (Oc,) (Oc,)\n",
      "9.5230460922 (Oc, Ob) (Oa,)\n",
      "6.49949849548646  (Oc, Ob) (Oa,) (Oa,)\n",
      "19.49849548645938  (Oc, Ob) (Ob,) (Oa,)\n",
      "18.198595787362088  (Oc, Ob) (Oc,) (Oa,)\n",
      "11.0380761523 (Oc, Ob) (Ob,)\n",
      "22.098294884653964  (Oc, Ob) (Oa,) (Ob,)\n",
      "20.79839518555667  (Oc, Ob) (Ob,) (Ob,)\n",
      "3.899699097291876  (Oc, Ob) (Oc,) (Ob,)\n",
      "5.4108216433 (Oc, Ob) (Oc,)\n",
      "28.597793380140423  (Oc, Ob) (Oa,) (Oc,)\n",
      "25.99799398194584  (Oc, Ob) (Ob,) (Oc,)\n",
      "10.399197592778336  (Oc, Ob) (Oc,) (Oc,)\n",
      "8.0080160321 (Oc, Oc) (Oa,)\n",
      "11.699097291875628  (Oc, Oc) (Oa,) (Oa,)\n",
      "27.29789368104313  (Oc, Oc) (Ob,) (Oa,)\n",
      "16.898696088264796  (Oc, Oc) (Oc,) (Oa,)\n",
      "12.1202404810 (Oc, Oc) (Ob,)\n",
      "15.598796389167504  (Oc, Oc) (Oa,) (Ob,)\n",
      "27.29789368104313  (Oc, Oc) (Ob,) (Ob,)\n",
      "24.698094282848547  (Oc, Oc) (Oc,) (Ob,)\n",
      "11.9038076152 (Oc, Oc) (Oc,)\n",
      "20.79839518555667  (Oc, Oc) (Oa,) (Oc,)\n",
      "18.198595787362088  (Oc, Oc) (Ob,) (Oc,)\n",
      "29.897693079237715  (Oc, Oc) (Oc,) (Oc,)\n"
     ]
    }
   ],
   "source": [
    "len_cwords = 2\n",
    "len_iwords = 1\n",
    "alphabet = oom_cont.observables\n",
    "\n",
    "F_IJ_bl = dict(zip(\n",
    "    [0] + alphabet,\n",
    "    [np.zeros(shape = (len(alphabet) ** len_iwords, len(alphabet) ** len_cwords))\n",
    "     for _ in range(len(alphabet) + 1)]\n",
    "))\n",
    "\n",
    "F_0J_bl = np.zeros(shape = (1, len(alphabet) ** len_cwords))\n",
    "\n",
    "F_I0_bl = np.zeros(shape = (len(alphabet) ** len_iwords, 1))\n",
    "\n",
    "for idxc, cword in enumerate(itertools.product(alphabet, repeat = len_cwords)):\n",
    "    F_0J_bl[0, idxc] = estimate(generation_cont.sequence_cont[:1000], cword, mfn_dict)\n",
    "    \n",
    "    for idxq, qword in enumerate(itertools.product(alphabet, repeat = len_iwords)):\n",
    "        F_IJ_bl[0][idxq, idxc] = estimate(generation_cont.sequence_cont[:1000], cword + qword, mfn_dict)\n",
    "        print(f\"{F_IJ_bl[0][idxq, idxc] : <.10f}\", cword, qword)\n",
    "        \n",
    "        for obs in alphabet:\n",
    "            F_IJ_bl[obs][idxq, idxc] = estimate(generation_cont.sequence_cont[:1000], cword + (obs,) + qword, mfn_dict)\n",
    "            print(f\"{F_IJ_bl[obs][idxq, idxc] : >12} \", cword, (obs,), qword)\n",
    "\n",
    "for idxq, qword in enumerate(itertools.product(alphabet, repeat = len_iwords)):\n",
    "    F_I0_bl[idxq, 0] = estimate(generation_cont.sequence_cont[:10000], qword, mfn_dict)"
   ]
  },
  {
   "cell_type": "code",
   "execution_count": 12,
   "id": "e784efc0-209f-4ff8-9a5a-c29bf056b879",
   "metadata": {},
   "outputs": [
    {
     "name": "stdout",
     "output_type": "stream",
     "text": [
      "F_0J\n",
      "[[2.48648649 3.81981982 3.81981982 4.10810811 4.61261261 4.         3.4954955  4.32432432 5.33333333]]\n",
      "\n",
      "F_I0\n",
      "[[1.6182]\n",
      " [2.1978]\n",
      " [2.184 ]]\n",
      "\n",
      "0\n",
      "[[ 3.03006012  7.14228457  8.65731463  4.32865731  8.00801603  4.32865731  7.35871743  9.52304609  8.00801603]\n",
      " [ 6.27655311  8.2244489   6.70941884 10.38877756  8.44088176  7.14228457  6.27655311 11.03807615 12.12024048]\n",
      " [ 5.62725451  7.35871743  7.5751503   9.95591182 11.25450902 12.55310621  7.35871743  5.41082164 11.90380762]]\n",
      "\n",
      "Oa\n",
      "[[ 1.2998997   9.09929789 22.09829488  2.5997994  10.39919759 10.39919759 12.99899699  6.4994985  11.69909729]\n",
      " [ 7.79939819 19.49849549 15.59879639 11.69909729 20.79839519  6.4994985  18.19859579 22.09829488 15.59879639]\n",
      " [ 9.09929789 14.29889669 14.29889669 11.69909729 16.89869609  9.09929789 12.99899699 28.59779338 20.79839519]]\n",
      "\n",
      "Ob\n",
      "[[12.99899699  6.4994985  11.69909729 18.19859579 22.09829488 18.19859579 11.69909729 19.49849549 27.29789368]\n",
      " [11.69909729 20.79839519 19.49849549 24.69809428  9.09929789 19.49849549 12.99899699 20.79839519 27.29789368]\n",
      " [11.69909729 22.09829488  9.09929789 19.49849549 19.49849549  5.1995988  12.99899699 25.99799398 18.19859579]]\n",
      "\n",
      "Oc\n",
      "[[15.59879639  5.1995988   7.79939819 23.39819458  2.5997994  23.39819458 12.99899699 18.19859579 16.89869609]\n",
      " [ 9.09929789 14.29889669 12.99899699 18.19859579 24.69809428 35.09729188 12.99899699  3.8996991  24.69809428]\n",
      " [ 9.09929789 24.69809428 24.69809428 18.19859579 40.29689067 16.89869609 18.19859579 10.39919759 29.89769308]]\n",
      "\n"
     ]
    }
   ],
   "source": [
    "np.set_printoptions(linewidth=120)\n",
    "print(\"F_0J\")\n",
    "print(F_0J_bl)\n",
    "print()\n",
    "\n",
    "print(\"F_I0\")\n",
    "print(F_I0_bl)\n",
    "print()\n",
    "\n",
    "for key, mat in F_IJ_bl.items():\n",
    "    print(key)\n",
    "    print(mat)\n",
    "    print()"
   ]
  },
  {
   "cell_type": "code",
   "execution_count": 13,
   "id": "1504c2c0-cbd6-47b6-b6ca-58f7acdd733c",
   "metadata": {},
   "outputs": [
    {
     "data": {
      "text/plain": [
       "array([[6., 0., 0.],\n",
       "       [0., 6., 0.],\n",
       "       [0., 0., 6.]])"
      ]
     },
     "execution_count": 13,
     "metadata": {},
     "output_type": "execute_result"
    }
   ],
   "source": [
    "T = np.zeros(shape = (len(alphabet), len(alphabet)))\n",
    "\n",
    "for idx in range(len(alphabet)):\n",
    "    for jdx in range(len(alphabet)):\n",
    "        T[idx, jdx] = sp.integrate.quad(\n",
    "            lambda x: mfn_dict[alphabet[idx]].pdf(x) * mfn_dict[alphabet[jdx]].pdf(x),\n",
    "            0, 1\n",
    "        )[0]\n",
    "\n",
    "T"
   ]
  },
  {
   "cell_type": "code",
   "execution_count": 14,
   "id": "610a02e9-638b-4769-a7c7-c42789bb601b",
   "metadata": {},
   "outputs": [],
   "source": [
    "# https://gist.github.com/ahwillia/9a81c0d091e39e319b4b9ab0919e304b\n",
    "\"\"\"\n",
    "References:\n",
    "\n",
    "  - B. Plateau, On the stochastic structure of parallelism and synchronization models for distributed algorithms.\n",
    "  Perform. Eval. Rev., 13 (1985), pp. 147–154.\n",
    "\n",
    "  - Dayar, T., & Orhan, M. C. (2015). On vector-Kronecker product multiplication with rectangular factors.\n",
    "  SIAM Journal on Scientific Computing, 37(5), S526-S543.\n",
    "\"\"\"\n",
    "\n",
    "from functools import reduce\n",
    "import numpy as np\n",
    "import numpy.random as npr\n",
    "import numba\n",
    "from numpy.testing import assert_array_almost_equal\n",
    "\n",
    "\n",
    "def kron_vec_prod(Xs, v, out=None, side=\"right\"):\n",
    "    \"\"\"\n",
    "    Computes matrix-vector multiplication between\n",
    "    matrix kron(X[0], X[1], ..., X[N]) and vector v.\n",
    "\n",
    "    Parameters\n",
    "    ----------\n",
    "    Xs : list of ndarray\n",
    "        List of square matrices defining Kronecker\n",
    "        structure.\n",
    "    v : ndarray\n",
    "        Vector to multiply.\n",
    "    out : ndarray or None\n",
    "        Output vector.\n",
    "    side : str\n",
    "        Either \"right\" to specify kron(Xs...) @ v\n",
    "        or \"left\" to specify v.T @ kron(Xs...).\n",
    "\n",
    "    Returns\n",
    "    -------\n",
    "    out : ndarray\n",
    "        Vector holding result.\n",
    "    \"\"\"\n",
    "\n",
    "    if (out is None) and (side == \"right\"):\n",
    "        out = np.empty(np.prod([X.shape[1] for X in Xs]))\n",
    "    elif (out is None) and (side == \"left\"):\n",
    "        out = np.empty(np.prod([X.shape[0] for X in Xs]))\n",
    "\n",
    "    if side == \"right\":\n",
    "        return _left_kron_vec_prod([X.T for X in Xs], v, out)\n",
    "    elif side == \"left\":\n",
    "        return _left_kron_vec_prod(Xs, v, out)\n",
    "    else:\n",
    "        raise ValueError(\n",
    "            \"Expected 'side' option to be 'left' or 'right'.\")\n",
    "\n",
    "\n",
    "@numba.jit(nopython=True)\n",
    "def _left_kron_vec_prod(Xs, p, q):\n",
    "\n",
    "    H = len(Xs)\n",
    "    rs = [X.shape[0] for X in Xs]\n",
    "\n",
    "    q[:] = p\n",
    "\n",
    "    ileft = 1\n",
    "    iright = 1\n",
    "    for X in Xs[1:]:\n",
    "        iright *= X.shape[0]\n",
    "\n",
    "    for h in range(H):\n",
    "\n",
    "        base_i = 0\n",
    "        base_j = 0\n",
    "\n",
    "        z = np.empty((1, rs[h]))\n",
    "        zp = np.empty((1, rs[h]))\n",
    "\n",
    "        for il in range(ileft):\n",
    "            for ir in range(iright):\n",
    "                ii = base_i + ir\n",
    "                ij = base_j + ir\n",
    "\n",
    "                for row in range(rs[h]):\n",
    "                    z[0, row] = q[ii]\n",
    "                    ii += iright\n",
    "\n",
    "                np.dot(z, Xs[h], out=zp)\n",
    "\n",
    "                for col in range(rs[h]):\n",
    "                    q[ij] = zp[0, col]\n",
    "                    ij += iright\n",
    "\n",
    "            base_i += rs[h] * iright\n",
    "            base_j += rs[h] * iright\n",
    "\n",
    "        if (h + 1) != H:\n",
    "            ileft *= rs[h]\n",
    "            iright //= rs[h + 1]\n",
    "\n",
    "    return q\n",
    "\n",
    "\n",
    "# if __name__ == \"__main__\":\n",
    "#     print(\"Testing...\")\n",
    "#     dims = (2, 3, 4, 3, 2)\n",
    "\n",
    "#     # Left multiplication, square matrices\n",
    "#     Xs = [npr.randn(s, s) for s in dims]\n",
    "#     p = npr.randn(np.prod(dims))\n",
    "\n",
    "#     expected = (p[None, :] @ reduce(np.kron, Xs)).ravel()\n",
    "#     actual = kron_vec_prod(Xs, p, side=\"left\")\n",
    "\n",
    "#     assert_array_almost_equal(expected, actual)\n",
    "#     print(\"* Passed 1 / 2\")\n",
    "\n",
    "#     # Right multiplication, square matrices\n",
    "#     Xs = [npr.randn(s, s) for s in dims]\n",
    "#     p = npr.randn(np.prod(dims))\n",
    "\n",
    "#     expected = reduce(np.kron, Xs) @ p\n",
    "#     actual = kron_vec_prod(Xs, p, side=\"right\")\n",
    "\n",
    "#     assert_array_almost_equal(expected, actual)\n",
    "#     print(\"* Passed 2 / 2\")"
   ]
  },
  {
   "cell_type": "code",
   "execution_count": 15,
   "id": "7e64687a-3d6a-49a0-a6db-5c9f49327ff0",
   "metadata": {},
   "outputs": [],
   "source": [
    "F_IJ_transformed = {}\n",
    "\n",
    "for key, mat in F_IJ_bl.items():\n",
    "    mat = mat.flatten()\n",
    "    reps = len_cwords + len_iwords\n",
    "    transformed = kron_vec_prod([T for _ in range(reps)], mat, side = \"right\")\n",
    "    transformed = transformed.reshape(len(alphabet) ** len_iwords, len(alphabet) ** len_cwords)\n",
    "    F_IJ_transformed[key] = transformed\n",
    "\n",
    "F_0J_transformed = kron_vec_prod(\n",
    "    [T for _ in range(len_cwords)],\n",
    "    F_0J_bl.flatten(),\n",
    "    side = \"right\"\n",
    ").reshape(\n",
    "    1,\n",
    "    len(alphabet) ** len_cwords\n",
    ")\n",
    "\n",
    "F_I0_transformed = kron_vec_prod(\n",
    "    [T for _ in range(len_iwords)],\n",
    "    F_I0_bl.flatten(),\n",
    "    side = \"right\"\n",
    ").reshape(\n",
    "    len(alphabet) ** len_iwords,\n",
    "    1\n",
    ")"
   ]
  },
  {
   "cell_type": "code",
   "execution_count": 16,
   "id": "61b50421-c673-4647-8cb8-d89e46bef1fa",
   "metadata": {},
   "outputs": [
    {
     "name": "stdout",
     "output_type": "stream",
     "text": [
      "0\n",
      "[[ 654.49298597 1542.73346693 1869.97995992  934.98997996 1729.73146293  934.98997996 1589.48296593 2056.97795591\n",
      "  1729.73146293]\n",
      " [1355.73547094 1776.48096192 1449.23446894 2243.9759519  1823.23046092 1542.73346693 1355.73547094 2384.2244489\n",
      "  2617.97194389]\n",
      " [1215.48697395 1589.48296593 1636.23246493 2150.47695391 2430.9739479  2711.47094188 1589.48296593 1168.73747495\n",
      "  2571.22244489]]\n",
      "\n",
      "Oa\n",
      "[[ 280.77833501 1965.44834504 4773.23169509  561.55667001 2246.22668004 2246.22668004 2807.78335005 1403.89167503\n",
      "  2527.00501505]\n",
      " [1684.67001003 4211.67502508 3369.34002006 2527.00501505 4492.45336008 1403.89167503 3930.89669007 4773.23169509\n",
      "  3369.34002006]\n",
      " [1965.44834504 3088.56168506 3088.56168506 2527.00501505 3650.11835507 1965.44834504 2807.78335005 6177.12337011\n",
      "  4492.45336008]]\n",
      "\n",
      "Ob\n",
      "[[2807.78335005 1403.89167503 2527.00501505 3930.89669007 4773.23169509 3930.89669007 2527.00501505 4211.67502508\n",
      "  5896.34503511]\n",
      " [2527.00501505 4492.45336008 4211.67502508 5334.7883651  1965.44834504 4211.67502508 2807.78335005 4492.45336008\n",
      "  5896.34503511]\n",
      " [2527.00501505 4773.23169509 1965.44834504 4211.67502508 4211.67502508 1123.11334002 2807.78335005 5615.5667001\n",
      "  3930.89669007]]\n",
      "\n",
      "Oc\n",
      "[[3369.34002006 1123.11334002 1684.67001003 5054.01003009  561.55667001 5054.01003009 2807.78335005 3930.89669007\n",
      "  3650.11835507]\n",
      " [1965.44834504 3088.56168506 2807.78335005 3930.89669007 5334.7883651  7581.01504514 2807.78335005  842.33500502\n",
      "  5334.7883651 ]\n",
      " [1965.44834504 5334.7883651  5334.7883651  3930.89669007 8704.12838516 3650.11835507 3930.89669007 2246.22668004\n",
      "  6457.90170512]]\n",
      "\n",
      "col\n",
      "[[ 9.7092]\n",
      " [13.1868]\n",
      " [13.104 ]]\n",
      "\n",
      "row\n",
      "[[ 89.51351351 137.51351351 137.51351351 147.89189189 166.05405405 144.         125.83783784 155.67567568 192.        ]]\n",
      "\n"
     ]
    }
   ],
   "source": [
    "for key, mat in F_IJ_transformed.items():\n",
    "    print(key, mat, '', sep='\\n')\n",
    "print(\"col\", F_I0_transformed, '', sep='\\n')\n",
    "print(\"row\", F_0J_transformed, '', sep='\\n')"
   ]
  },
  {
   "cell_type": "code",
   "execution_count": 21,
   "id": "1cabfeed-aa28-4633-8803-57427218d8ab",
   "metadata": {},
   "outputs": [],
   "source": [
    "target_dimension = 3\n",
    "\n",
    "F_IzJ, F_0J, F_I0 = (F_IJ_transformed, F_0J_transformed, F_I0_transformed)\n",
    "F_IJ = F_IzJ[0]\n",
    "C, Q = get_CQ_by_svd(F_IJ, target_dimension)\n",
    "\n",
    "# Inverse matrix computation\n",
    "V = C * F_IJ * Q\n",
    "V_inv = np.linalg.inv(V)\n",
    "\n",
    "# Get linear functional (learning equation #1)\n",
    "# It holds that type(sigma) == LinFunctional == np.matrix\n",
    "sigma = F_0J * Q * V_inv\n",
    "\n",
    "# Get observable operators (learning equation #2)\n",
    "tau_z = []\n",
    "for obsname, F_IkJ in F_IzJ.items():\n",
    "    if obsname == 0:\n",
    "        continue\n",
    "    \n",
    "    operator_matrix = C * F_IkJ * Q * V_inv\n",
    "    operator = Operator(obsname,\n",
    "                        range_dimension = target_dimension,\n",
    "                        matrix_rep = operator_matrix)\n",
    "    tau_z.append(operator)\n",
    "# Get state vector (learning equation #3)\n",
    "# It holds that type(sigma) == State == np.matrix\n",
    "omega = C * F_I0"
   ]
  },
  {
   "cell_type": "code",
   "execution_count": 22,
   "id": "d1295d86-667a-4da3-85e5-638d9388fcc1",
   "metadata": {},
   "outputs": [],
   "source": [
    "learned_oom = ContinuousValuedOOM(\n",
    "    dim               = target_dimension,\n",
    "    linear_functional = sigma,\n",
    "    operators         = tau_z,\n",
    "    start_state       = omega,\n",
    "    membership_functions = oom_cont.membership_fns\n",
    ")\n",
    "learned_oom.normalize()"
   ]
  },
  {
   "cell_type": "code",
   "execution_count": 23,
   "id": "7e0cd5c2-01a9-4523-9183-df1ea8959d2b",
   "metadata": {},
   "outputs": [
    {
     "name": "stdout",
     "output_type": "stream",
     "text": [
      "<ContinuousValuedOOM object with dimension 3 and alphabet size 3>\n",
      "functional = [[ 0.04777957 -0.00483493 -0.00315514]]\n",
      "start state = [[20.96697281  0.03828964  0.50956841]]^T\n",
      "alphabet = [Oa, Ob, Oc]\n",
      "    Oa operator matrix:\n",
      "[[ 0.28075823 -0.41475389 -0.24757376]\n",
      " [ 0.01581025 -0.09941755  0.40719458]\n",
      " [ 0.01624774 -0.07879931  0.13769836]]\n",
      "    Ob operator matrix:\n",
      "[[ 0.34995958 -0.14993127  0.39759537]\n",
      " [-0.04527729 -0.23773472  0.04802617]\n",
      " [-0.00430934  0.01937722  0.02667713]]\n",
      "    Oc operator matrix:\n",
      "[[ 0.36942514  0.42698515 -0.23064706]\n",
      " [ 0.03097272 -0.15883583 -0.52996943]\n",
      " [-0.01208112  0.26662224 -0.27077352]]\n",
      "\n"
     ]
    }
   ],
   "source": [
    "print(learned_oom)"
   ]
  },
  {
   "cell_type": "code",
   "execution_count": 34,
   "id": "921219d0-2077-45e3-8f3e-6773a63e2ded",
   "metadata": {},
   "outputs": [
    {
     "data": {
      "text/plain": [
       "[0.6799156871850219,\n",
       " 0.4445977875258379,\n",
       " 0.40658100483895476,\n",
       " 0.044840361826411414,\n",
       " 0.7243472580422022,\n",
       " 0.7732763492601565,\n",
       " 0.701872876940559,\n",
       " 0.4579619882215233,\n",
       " 0.052884770083499566,\n",
       " 0.16522339454212454]"
      ]
     },
     "execution_count": 34,
     "metadata": {},
     "output_type": "execute_result"
    }
   ],
   "source": [
    "learned_oom.generate(10).sequence_cont"
   ]
  },
  {
   "cell_type": "code",
   "execution_count": null,
   "id": "d895f07c-e11f-430b-a846-155b81e22386",
   "metadata": {},
   "outputs": [],
   "source": []
  }
 ],
 "metadata": {
  "kernelspec": {
   "display_name": "Python 3 (ipykernel)",
   "language": "python",
   "name": "python3"
  },
  "language_info": {
   "codemirror_mode": {
    "name": "ipython",
    "version": 3
   },
   "file_extension": ".py",
   "mimetype": "text/x-python",
   "name": "python",
   "nbconvert_exporter": "python",
   "pygments_lexer": "ipython3",
   "version": "3.12.1"
  }
 },
 "nbformat": 4,
 "nbformat_minor": 5
}
