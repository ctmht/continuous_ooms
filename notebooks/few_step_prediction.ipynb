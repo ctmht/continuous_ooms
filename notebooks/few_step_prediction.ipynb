{
 "cells": [
  {
   "cell_type": "markdown",
   "id": "1d099302-27f6-4b44-8b55-4163fb9ce55c",
   "metadata": {},
   "source": [
    "## Few-Step Prediction"
   ]
  },
  {
   "cell_type": "code",
   "execution_count": 76,
   "id": "a08767a5-d433-4f9e-9212-554d9b648ab9",
   "metadata": {},
   "outputs": [],
   "source": [
    "from sklearn.mixture import GaussianMixture\n",
    "from matplotlib import pyplot as plt\n",
    "from matplotlib import cm, colors\n",
    "from tqdm import tqdm\n",
    "import seaborn as sns\n",
    "import pandas as pd\n",
    "import numpy as np\n",
    "\n",
    "from collections import Counter\n",
    "import os\n",
    "import sys\n",
    "module_path = os.path.abspath(os.path.join('..'))\n",
    "if module_path not in sys.path:\n",
    "    sys.path.append(module_path)\n",
    "\n",
    "np.set_printoptions(linewidth=300, suppress=True)\n",
    "\n",
    "from src.experiments.util_experiments import *\n",
    "from src.oom import DiscreteValuedOOM, ContinuousValuedOOM\n",
    "from src.oom.discrete_observable import DiscreteObservable"
   ]
  },
  {
   "cell_type": "code",
   "execution_count": 6,
   "id": "80f04a55-1139-499d-b427-080b17164b7e",
   "metadata": {},
   "outputs": [],
   "source": [
    "import itertools"
   ]
  },
  {
   "cell_type": "markdown",
   "id": "747fd631-5b76-46ee-a31b-88efc8734ea8",
   "metadata": {},
   "source": [
    "### Discrete-Valued OOMs"
   ]
  },
  {
   "cell_type": "code",
   "execution_count": 65,
   "id": "df97c0ab-ea06-4f88-982c-3843092a949b",
   "metadata": {},
   "outputs": [],
   "source": [
    "n, d, density = 3, 10, 0.2\n",
    "seed_dv, seed_mf = 63, 6\n",
    "oom_disc = make_source(alphabet_size=n, dimension=d, density=density, seed=seed_dv)"
   ]
  },
  {
   "cell_type": "code",
   "execution_count": 66,
   "id": "49a5406a-2122-4542-9b55-01d4cff5daf0",
   "metadata": {},
   "outputs": [
    {
     "name": "stdout",
     "output_type": "stream",
     "text": [
      "<DiscreteValuedOOM object with dimension 10 and alphabet size 3>\n",
      "functional = [[1. 1. 1. 1. 1. 1. 1. 1. 1. 1.]]\n",
      "start state = [[0.15991075 0.02696132 0.02586292 0.02105375 0.09908849 0.1591789  0.1591789  0.15991075 0.18015443 0.00869979]]^T\n",
      "alphabet = [Oa, Ob, Oc]\n",
      "    Oa operator matrix:\n",
      "[[0. 0. 0. 0. 0. 0. 0. 0. 0. 0.]\n",
      " [0. 0. 0. 0. 0. 0. 0. 0. 0. 0.]\n",
      " [0. 0. 0. 0. 0. 0. 0. 0. 0. 0.]\n",
      " [0. 0. 0. 0. 0. 0. 0. 0. 0. 0.]\n",
      " [0. 0. 0. 0. 0. 0. 0. 0. 0. 0.]\n",
      " [0. 0. 0. 0. 0. 0. 0. 0. 0. 0.]\n",
      " [0. 0. 0. 0. 0. 0. 0. 0. 0. 0.]\n",
      " [0. 0. 0. 0. 0. 0. 0. 0. 0. 0.]\n",
      " [1. 0. 0. 0. 0. 0. 0. 0. 0. 0.]\n",
      " [0. 0. 0. 0. 0. 0. 0. 0. 0. 0.]]\n",
      "    Ob operator matrix:\n",
      "[[0.         0.         0.         0.         0.         0.         0.         1.         0.         0.        ]\n",
      " [0.         0.         0.42387033 0.         0.         0.         0.         0.         0.         0.42750347]\n",
      " [0.         0.         0.         1.         0.         0.         0.         0.         0.         0.        ]\n",
      " [0.         0.         0.         0.         0.21247425 0.         0.         0.         0.         0.        ]\n",
      " [0.         0.         0.         0.         0.4962735  0.         0.         0.         0.         0.57249653]\n",
      " [0.         0.         0.         0.         0.         0.         0.         0.         0.         0.        ]\n",
      " [0.         0.         0.         0.         0.24177755 0.         0.         0.         0.         0.        ]\n",
      " [0.         0.         0.02829723 0.         0.         1.         0.         0.         0.         0.        ]\n",
      " [0.         0.         0.40100374 0.         0.         0.         0.         0.         0.         0.        ]\n",
      " [0.         0.         0.1468287  0.         0.04947469 0.         0.         0.         0.         0.        ]]\n",
      "    Oc operator matrix:\n",
      "[[0.         0.         0.         0.         0.         0.         0.         0.         0.         0.        ]\n",
      " [0.         0.45545265 0.         0.         0.         0.         0.         0.         0.         0.        ]\n",
      " [0.         0.17837268 0.         0.         0.         0.         0.         0.         0.         0.        ]\n",
      " [0.         0.         0.         0.         0.         0.         0.         0.         0.         0.        ]\n",
      " [0.         0.         0.         0.         0.         0.         0.         0.         0.24941323 0.        ]\n",
      " [0.         0.         0.         0.         0.         0.         1.         0.         0.         0.        ]\n",
      " [0.         0.         0.         0.         0.         0.         0.         0.         0.75058677 0.        ]\n",
      " [0.         0.         0.         0.         0.         0.         0.         0.         0.         0.        ]\n",
      " [0.         0.36617467 0.         0.         0.         0.         0.         0.         0.         0.        ]\n",
      " [0.         0.         0.         0.         0.         0.         0.         0.         0.         0.        ]]\n",
      "\n",
      "\n",
      "[[0.         0.         0.         0.         0.         0.         0.         1.         0.         0.        ]\n",
      " [0.         0.45545265 0.42387033 0.         0.         0.         0.         0.         0.         0.42750347]\n",
      " [0.         0.17837268 0.         1.         0.         0.         0.         0.         0.         0.        ]\n",
      " [0.         0.         0.         0.         0.21247425 0.         0.         0.         0.         0.        ]\n",
      " [0.         0.         0.         0.         0.4962735  0.         0.         0.         0.24941323 0.57249653]\n",
      " [0.         0.         0.         0.         0.         0.         1.         0.         0.         0.        ]\n",
      " [0.         0.         0.         0.         0.24177755 0.         0.         0.         0.75058677 0.        ]\n",
      " [0.         0.         0.02829723 0.         0.         1.         0.         0.         0.         0.        ]\n",
      " [1.         0.36617467 0.40100374 0.         0.         0.         0.         0.         0.         0.        ]\n",
      " [0.         0.         0.1468287  0.         0.04947469 0.         0.         0.         0.         0.        ]] \n",
      " 10 10\n"
     ]
    }
   ],
   "source": [
    "print(oom_disc)\n",
    "print()\n",
    "print(sum(oom_disc.operators), '\\n', oom_disc.dim, np.linalg.matrix_rank(sum(oom_disc.operators)))"
   ]
  },
  {
   "cell_type": "code",
   "execution_count": 69,
   "id": "2c1edd5f-8914-407b-8c3d-45838d116e4d",
   "metadata": {},
   "outputs": [],
   "source": [
    "def quantify_distribution_disc(oom: DiscreteValuedOOM, pred_length: int, state: Optional[np.matrix] = None) -> np.array:\n",
    "    \"\"\"\n",
    "    \n",
    "    \"\"\"\n",
    "    if state is None:\n",
    "        state = oom.start_state\n",
    "    obsops = dict(zip(oom.observables, oom.operators))\n",
    "    pred_dists = {}\n",
    "    \n",
    "    for obscomb in itertools.product(obsops.keys(), repeat = pred_length):\n",
    "        curr_state = state\n",
    "        \n",
    "        for obs in reversed(obscomb):\n",
    "            curr_state = obsops[obs] * curr_state\n",
    "        \n",
    "        curr_p = oom.lin_func * curr_state\n",
    "        pred_dists[obscomb] = curr_p.item()\n",
    "\n",
    "    # Order and return results\n",
    "    pred_dists_ps = pd.Series(pred_dists)\n",
    "    print('\\n', pred_dists_ps, '\\n\\n', pred_dists_ps.sum(), sep='')\n",
    "    return pred_dists_ps.values"
   ]
  },
  {
   "cell_type": "markdown",
   "id": "72ce3846-4537-418b-8ca0-d520332124ef",
   "metadata": {},
   "source": [
    "### Continuous-Valued OOMs"
   ]
  },
  {
   "cell_type": "code",
   "execution_count": 79,
   "id": "49cd70aa-b744-48a0-b596-1f70c5167d33",
   "metadata": {},
   "outputs": [
    {
     "name": "stdout",
     "output_type": "stream",
     "text": [
      "<ContinuousValuedOOM object with dimension 10 and alphabet size 3>\n",
      "functional = [[1. 1. 1. 1. 1. 1. 1. 1. 1. 1.]]\n",
      "start state = [[0.15991075 0.02696132 0.02586292 0.02105375 0.09908849 0.1591789  0.1591789  0.15991075 0.18015443 0.00869979]]^T\n",
      "alphabet = [Oa, Ob, Oc]\n",
      "    Oa operator matrix:\n",
      "[[0. 0. 0. 0. 0. 0. 0. 0. 0. 0.]\n",
      " [0. 0. 0. 0. 0. 0. 0. 0. 0. 0.]\n",
      " [0. 0. 0. 0. 0. 0. 0. 0. 0. 0.]\n",
      " [0. 0. 0. 0. 0. 0. 0. 0. 0. 0.]\n",
      " [0. 0. 0. 0. 0. 0. 0. 0. 0. 0.]\n",
      " [0. 0. 0. 0. 0. 0. 0. 0. 0. 0.]\n",
      " [0. 0. 0. 0. 0. 0. 0. 0. 0. 0.]\n",
      " [0. 0. 0. 0. 0. 0. 0. 0. 0. 0.]\n",
      " [1. 0. 0. 0. 0. 0. 0. 0. 0. 0.]\n",
      " [0. 0. 0. 0. 0. 0. 0. 0. 0. 0.]]\n",
      "    Ob operator matrix:\n",
      "[[0.         0.         0.         0.         0.         0.         0.         1.         0.         0.        ]\n",
      " [0.         0.         0.42387033 0.         0.         0.         0.         0.         0.         0.42750347]\n",
      " [0.         0.         0.         1.         0.         0.         0.         0.         0.         0.        ]\n",
      " [0.         0.         0.         0.         0.21247425 0.         0.         0.         0.         0.        ]\n",
      " [0.         0.         0.         0.         0.4962735  0.         0.         0.         0.         0.57249653]\n",
      " [0.         0.         0.         0.         0.         0.         0.         0.         0.         0.        ]\n",
      " [0.         0.         0.         0.         0.24177755 0.         0.         0.         0.         0.        ]\n",
      " [0.         0.         0.02829723 0.         0.         1.         0.         0.         0.         0.        ]\n",
      " [0.         0.         0.40100374 0.         0.         0.         0.         0.         0.         0.        ]\n",
      " [0.         0.         0.1468287  0.         0.04947469 0.         0.         0.         0.         0.        ]]\n",
      "    Oc operator matrix:\n",
      "[[0.         0.         0.         0.         0.         0.         0.         0.         0.         0.        ]\n",
      " [0.         0.45545265 0.         0.         0.         0.         0.         0.         0.         0.        ]\n",
      " [0.         0.17837268 0.         0.         0.         0.         0.         0.         0.         0.        ]\n",
      " [0.         0.         0.         0.         0.         0.         0.         0.         0.         0.        ]\n",
      " [0.         0.         0.         0.         0.         0.         0.         0.         0.24941323 0.        ]\n",
      " [0.         0.         0.         0.         0.         0.         1.         0.         0.         0.        ]\n",
      " [0.         0.         0.         0.         0.         0.         0.         0.         0.75058677 0.        ]\n",
      " [0.         0.         0.         0.         0.         0.         0.         0.         0.         0.        ]\n",
      " [0.         0.36617467 0.         0.         0.         0.         0.         0.         0.         0.        ]\n",
      " [0.         0.         0.         0.         0.         0.         0.         0.         0.         0.        ]]\n",
      "\n"
     ]
    }
   ],
   "source": [
    "oom_cont = ContinuousValuedOOM.from_discrete_valued_oom(\n",
    "    dvoom = oom_disc,\n",
    "    membership_functions = get_gaussian(seed=seed_mf)(n)\n",
    ")\n",
    "print(oom_cont)"
   ]
  },
  {
   "cell_type": "code",
   "execution_count": 88,
   "id": "6cc137bc-0e62-44e3-96a7-2f46c38c9bcd",
   "metadata": {},
   "outputs": [],
   "source": [
    "def quantify_distribution_cont(\n",
    "    oom: ContinuousValuedOOM,\n",
    "    pred_length: int,\n",
    "    intervals: list[tuple[float, float]],\n",
    "    state: Optional[np.matrix] = None,\n",
    ") -> np.array:\n",
    "    \"\"\"\n",
    "    \n",
    "    \"\"\"\n",
    "    obsops = {}\n",
    "    for idx, interval in enumerate(intervals):\n",
    "        il, ir = interval\n",
    "        \n",
    "        # Get operator over this interval\n",
    "        wops = []\n",
    "        for mf, op in zip(oom.membership_fns, oom.operators):\n",
    "            weight = mf.cdf(ir) - mf.cdf(il)\n",
    "            wop = weight * op\n",
    "            wops.append(wop)\n",
    "        op = sum(wops)\n",
    "        obsops[DiscreteObservable(name=f\"L{idx}_{interval}\")] = op\n",
    "    \n",
    "    if state is None:\n",
    "        state = oom.start_state\n",
    "    \n",
    "    pred_dists = {}\n",
    "    \n",
    "    for obscomb in itertools.product(obsops.keys(), repeat = pred_length):\n",
    "        curr_state = state\n",
    "        \n",
    "        for obs in reversed(obscomb):\n",
    "            curr_state = obsops[obs] * curr_state\n",
    "        \n",
    "        curr_p = oom.lin_func * curr_state\n",
    "        pred_dists[obscomb] = curr_p.item()\n",
    "\n",
    "    # Order and return results\n",
    "    pred_dists_ps = pd.Series(pred_dists)\n",
    "    print(pred_dists_ps, '\\n\\n', pred_dists_ps.sum(), sep='')\n",
    "    return pred_dists_ps.values"
   ]
  },
  {
   "cell_type": "code",
   "execution_count": 126,
   "id": "deecaa8c-ba63-43f2-9c90-6707f866ce4f",
   "metadata": {},
   "outputs": [
    {
     "name": "stdout",
     "output_type": "stream",
     "text": [
      "OL0_(-inf, -3)  OL0_(-inf, -3)  OL0_(-inf, -3)  OL0_(-inf, -3)    4.041624e-18\n",
      "                                                OL1_(-3, -2)      5.382944e-16\n",
      "                                                OL2_(-2, -1)      9.169278e-15\n",
      "                                                OL3_(-1, 0)       2.251005e-14\n",
      "                                                OL4_(0, 1)        1.142079e-14\n",
      "                                                                      ...     \n",
      "OL7_(3, inf)    OL7_(3, inf)    OL7_(3, inf)    OL3_(-1, 0)       1.208723e-06\n",
      "                                                OL4_(0, 1)        5.945282e-07\n",
      "                                                OL5_(1, 2)        8.416425e-07\n",
      "                                                OL6_(2, 3)        7.468193e-07\n",
      "                                                OL7_(3, inf)      1.115562e-07\n",
      "Length: 4096, dtype: float64\n",
      "\n",
      "1.0000000000000002\n"
     ]
    }
   ],
   "source": [
    "qdist_vec = quantify_distribution_cont(oom_cont, 4, intervals=qdintervals)"
   ]
  },
  {
   "cell_type": "code",
   "execution_count": 127,
   "id": "2b406f6d-333b-48f5-972b-77a82cf365c0",
   "metadata": {},
   "outputs": [
    {
     "data": {
      "text/plain": [
       "[<matplotlib.lines.Line2D at 0x22b8f39da90>]"
      ]
     },
     "execution_count": 127,
     "metadata": {},
     "output_type": "execute_result"
    },
    {
     "data": {
      "image/png": "[encoded data removed]",
      "text/plain": [
       "<Figure size 640x480 with 1 Axes>"
      ]
     },
     "metadata": {},
     "output_type": "display_data"
    }
   ],
   "source": [
    "plt.plot(qdist_vec)"
   ]
  },
  {
   "cell_type": "code",
   "execution_count": 121,
   "id": "70249e1b-c924-4fa6-9229-7b3b944e4b5e",
   "metadata": {},
   "outputs": [],
   "source": [
    "def get_discretized_operators(\n",
    "    oom: ContinuousValuedOOM,\n",
    "    intervals: list[tuple[float, float]],\n",
    ") -> dict[DiscreteObservable, np.matrix]:\n",
    "    \"\"\"\n",
    "    \n",
    "    \"\"\"\n",
    "    obsops = {}\n",
    "    for idx, interval in enumerate(intervals):\n",
    "        il, ir = interval\n",
    "        \n",
    "        # Get operator over this interval\n",
    "        wops = []\n",
    "        for mf, op in zip(oom.membership_fns, oom.operators):\n",
    "            weight = mf.cdf(ir) - mf.cdf(il)\n",
    "            wop = weight * op\n",
    "            wops.append(wop)\n",
    "        op = sum(wops)\n",
    "        \n",
    "        obsops[DiscreteObservable(name=f\"L{idx}_{interval}\")] = op\n",
    "    return obsops"
   ]
  },
  {
   "cell_type": "code",
   "execution_count": 129,
   "id": "cac013a6-058f-4b5d-97b5-18561e72ffca",
   "metadata": {},
   "outputs": [],
   "source": [
    "qrinf = 3\n",
    "qdintervals = [(-np.inf, -qrinf), *[(a, a+1) for a in range(-qrinf, qrinf)], (qrinf, np.inf)]\n",
    "discretized_ops = get_discretized_operators(oom_cont, qdintervals)"
   ]
  },
  {
   "cell_type": "markdown",
   "id": "c4bcf886-16c2-406d-9afd-a9ede232630e",
   "metadata": {},
   "source": [
    "## Both cases combined"
   ]
  },
  {
   "cell_type": "code",
   "execution_count": 173,
   "id": "9a3596dc-2a77-464f-831b-8cf8315903f4",
   "metadata": {},
   "outputs": [],
   "source": [
    "def quantify_distribution(\n",
    "    steps: int,\n",
    "    state: np.matrix,\n",
    "    operators: list[np.matrix],\n",
    "    lin_func: np.matrix\n",
    ") -> np.array:\n",
    "    \"\"\"\n",
    "    \n",
    "    \"\"\"\n",
    "    obsops = dict(zip(range(len(operators)), operators))\n",
    "    pred_dists = {}\n",
    "    \n",
    "    for obscomb in itertools.product(obsops.keys(), repeat = steps):\n",
    "        curr_state = state\n",
    "        \n",
    "        for obs in reversed(obscomb):\n",
    "            curr_state = obsops[obs] * curr_state\n",
    "        \n",
    "        curr_p = lin_func * curr_state\n",
    "        pred_dists[obscomb] = curr_p.item()\n",
    "    \n",
    "    # Order and return results\n",
    "    pred_dists_ps = pd.Series(pred_dists)\n",
    "    print('\\n', pred_dists_ps, '\\n\\n', pred_dists_ps.sum(), sep='')\n",
    "    return pred_dists_ps.values"
   ]
  },
  {
   "cell_type": "code",
   "execution_count": 178,
   "id": "35926739-7c10-4266-9858-9e464432dddd",
   "metadata": {},
   "outputs": [
    {
     "name": "stdout",
     "output_type": "stream",
     "text": [
      "\n",
      "0  0  0  0  0  0  0  0  0  0    0.000000\n",
      "                           1    0.000000\n",
      "                           2    0.000000\n",
      "                        1  0    0.000000\n",
      "                           1    0.000000\n",
      "                                  ...   \n",
      "2  2  2  2  2  2  2  2  1  1    0.000161\n",
      "                           2    0.000026\n",
      "                        2  0    0.000000\n",
      "                           1    0.000085\n",
      "                           2    0.000071\n",
      "Length: 59049, dtype: float64\n",
      "\n",
      "1.0000000000000002\n"
     ]
    },
    {
     "data": {
      "text/plain": [
       "[<matplotlib.lines.Line2D at 0x22b92abe900>]"
      ]
     },
     "execution_count": 178,
     "metadata": {},
     "output_type": "execute_result"
    },
    {
     "data": {
      "image/png": "[encoded data removed]",
      "text/plain": [
       "<Figure size 640x480 with 1 Axes>"
      ]
     },
     "metadata": {},
     "output_type": "display_data"
    }
   ],
   "source": [
    "qd_vec_dist = quantify_distribution(\n",
    "    10,\n",
    "    oom_disc.start_state,\n",
    "    oom_disc.operators,\n",
    "    oom_disc.lin_func\n",
    ")\n",
    "plt.plot(qd_vec_dist)"
   ]
  },
  {
   "cell_type": "code",
   "execution_count": 181,
   "id": "30ef9032-79e0-45da-a7e9-5d1e01714b2d",
   "metadata": {},
   "outputs": [
    {
     "name": "stdout",
     "output_type": "stream",
     "text": [
      "\n",
      "0  0  0  0  0    2.426918e-22\n",
      "            1    3.232355e-20\n",
      "            2    5.505925e-19\n",
      "            3    1.350194e-18\n",
      "            4    6.283731e-19\n",
      "                     ...     \n",
      "7  7  7  7  3    3.336010e-08\n",
      "            4    1.644533e-08\n",
      "            5    2.344013e-08\n",
      "            6    2.080483e-08\n",
      "            7    3.107731e-09\n",
      "Length: 32768, dtype: float64\n",
      "\n",
      "1.0000000000000002\n"
     ]
    },
    {
     "data": {
      "text/plain": [
       "[<matplotlib.lines.Line2D at 0x22b95205670>]"
      ]
     },
     "execution_count": 181,
     "metadata": {},
     "output_type": "execute_result"
    },
    {
     "data": {
      "image/png": "[encoded data removed]",
      "text/plain": [
       "<Figure size 640x480 with 1 Axes>"
      ]
     },
     "metadata": {},
     "output_type": "display_data"
    }
   ],
   "source": [
    "qrinf = 3\n",
    "qdintervals = [(-np.inf, -qrinf), *[(a, a+1) for a in range(-qrinf, qrinf)], (qrinf, np.inf)]\n",
    "discretized_ops = get_discretized_operators(oom_cont, qdintervals)\n",
    "\n",
    "qd_vec_cont = quantify_distribution(\n",
    "    5,\n",
    "    oom_cont.start_state,\n",
    "    list(discretized_ops.values()),\n",
    "    oom_cont.lin_func\n",
    ")\n",
    "plt.plot(qd_vec_cont)"
   ]
  },
  {
   "cell_type": "code",
   "execution_count": 185,
   "id": "2fc32ea6-f2ff-4715-9c5c-7281cb778842",
   "metadata": {},
   "outputs": [
    {
     "data": {
      "text/plain": [
       "0.0"
      ]
     },
     "execution_count": 185,
     "metadata": {},
     "output_type": "execute_result"
    }
   ],
   "source": [
    "def kl_divergence(p, q):\n",
    "    kldiv = np.sum(p * np.log(p / q))\n",
    "    return kldiv\n",
    "\n",
    "div = kl_divergence(qd_vec_cont, qd_vec_cont)\n",
    "div"
   ]
  },
  {
   "cell_type": "code",
   "execution_count": null,
   "id": "87b6091b-d4bd-4ff3-81af-4bbf25de5882",
   "metadata": {},
   "outputs": [],
   "source": []
  }
 ],
 "metadata": {
  "kernelspec": {
   "display_name": "Python 3 (ipykernel)",
   "language": "python",
   "name": "python3"
  },
  "language_info": {
   "codemirror_mode": {
    "name": "ipython",
    "version": 3
   },
   "file_extension": ".py",
   "mimetype": "text/x-python",
   "name": "python",
   "nbconvert_exporter": "python",
   "pygments_lexer": "ipython3",
   "version": "3.12.1"
  }
 },
 "nbformat": 4,
 "nbformat_minor": 5
}
